{
 "cells": [
  {
   "cell_type": "markdown",
   "id": "eb3bf787",
   "metadata": {},
   "source": [
    "Héctor Asorey de Pablos"
   ]
  },
  {
   "cell_type": "markdown",
   "id": "85c84c59",
   "metadata": {},
   "source": [
    "<hr>\n",
    "\n",
    "# TRABAJO 1: OPTIMIZACIÓN DE HIPERPARÁMETROS\n",
    "\n",
    "<hr>"
   ]
  },
  {
   "cell_type": "markdown",
   "id": "4f5a3aba",
   "metadata": {},
   "source": [
    "Se plantea un problema de clasificación multiclase (3 clases) a resolver con alguno de los meta-algoritmos de aprendizaje o redes neuronales vistos en clase, utilizando optimización de hiperparámetros. Se compararán los modelos obtenidos en las prácticas anteriores con los modelos que se obtienen utilizando la optimización de hiperparámetros\n",
    "\n",
    "Para esta tarea, se utilizará el dataset \"star_class_clean.csv\", que contiene 100000 observaciones del espacio tomadas por el SDSS (Sloan Digital Sky Survey) y que clasifica estas observaciones en 3 tipos, que son: Galaxia, Estrella o Cuásar (galaxia recién nacida).\n",
    "\n",
    "El dataset contiene 13 variables, que son las siguientes:\n",
    "\n",
    "* alpha: ángulo de ascensión (float)\n",
    "* delta: ángulo de declinación (float)\n",
    "* u: filtro ultravioleta (float)\n",
    "* g: filtro verde (float)\n",
    "* r: filtro rojo (float)\n",
    "* i: filtro infrarrojo cercano (float)\n",
    "* z: filtro infrarrojo (float)\n",
    "* field_ID: número de campo para identificar cada campo (int)\n",
    "* spec_obj_ID: ID único utilizado para objetos espectroscópicos ópticos (int)\n",
    "* redshift: valor redshift basado en el aumento de la longitud de onda (float)\n",
    "* plate: identifica cada placa en SDSS (int)\n",
    "* MJD: fecha juliana (float)\n",
    "* fiber_ID: ID de fibra que identifica la fibra que apuntó la luza al plano focal en cada observación\n",
    "* class: clase del objeto (galaxy, star, quasar object)\n",
    "\n",
    "Este Dataset ha sido descargado de Kaggle y se han eliminado las columnas que no son relevantes para resolver el problema de clasificación. \n",
    "\n",
    "Fuente del Dataset:https://www.kaggle.com/datasets/fedesoriano/stellar-classification-dataset-sdss17"
   ]
  },
  {
   "cell_type": "markdown",
   "id": "8fe65f58",
   "metadata": {},
   "source": [
    "<hr>\n",
    "\n",
    "### 1. LECTURA DE DATOS Y VISUALIZACIÓN DE LA DISTRIBUCIÓN DE LAS CLASES A CLASIFICAR\n",
    "\n"
   ]
  },
  {
   "cell_type": "code",
   "execution_count": 1,
   "id": "0e6269a5",
   "metadata": {},
   "outputs": [
    {
     "data": {
      "text/html": [
       "<div>\n",
       "<style scoped>\n",
       "    .dataframe tbody tr th:only-of-type {\n",
       "        vertical-align: middle;\n",
       "    }\n",
       "\n",
       "    .dataframe tbody tr th {\n",
       "        vertical-align: top;\n",
       "    }\n",
       "\n",
       "    .dataframe thead th {\n",
       "        text-align: right;\n",
       "    }\n",
       "</style>\n",
       "<table border=\"1\" class=\"dataframe\">\n",
       "  <thead>\n",
       "    <tr style=\"text-align: right;\">\n",
       "      <th></th>\n",
       "      <th>alpha</th>\n",
       "      <th>delta</th>\n",
       "      <th>u</th>\n",
       "      <th>g</th>\n",
       "      <th>r</th>\n",
       "      <th>i</th>\n",
       "      <th>z</th>\n",
       "      <th>field_ID</th>\n",
       "      <th>spec_obj_ID</th>\n",
       "      <th>redshift</th>\n",
       "      <th>plate</th>\n",
       "      <th>MJD</th>\n",
       "      <th>fiber_ID</th>\n",
       "      <th>class</th>\n",
       "    </tr>\n",
       "  </thead>\n",
       "  <tbody>\n",
       "    <tr>\n",
       "      <th>0</th>\n",
       "      <td>135.689107</td>\n",
       "      <td>32.494632</td>\n",
       "      <td>23.87882</td>\n",
       "      <td>22.27530</td>\n",
       "      <td>20.39501</td>\n",
       "      <td>19.16573</td>\n",
       "      <td>18.79371</td>\n",
       "      <td>79</td>\n",
       "      <td>6.543777e+18</td>\n",
       "      <td>0.634794</td>\n",
       "      <td>5812</td>\n",
       "      <td>56354</td>\n",
       "      <td>171</td>\n",
       "      <td>GALAXY</td>\n",
       "    </tr>\n",
       "    <tr>\n",
       "      <th>1</th>\n",
       "      <td>144.826101</td>\n",
       "      <td>31.274185</td>\n",
       "      <td>24.77759</td>\n",
       "      <td>22.83188</td>\n",
       "      <td>22.58444</td>\n",
       "      <td>21.16812</td>\n",
       "      <td>21.61427</td>\n",
       "      <td>119</td>\n",
       "      <td>1.176014e+19</td>\n",
       "      <td>0.779136</td>\n",
       "      <td>10445</td>\n",
       "      <td>58158</td>\n",
       "      <td>427</td>\n",
       "      <td>GALAXY</td>\n",
       "    </tr>\n",
       "    <tr>\n",
       "      <th>2</th>\n",
       "      <td>142.188790</td>\n",
       "      <td>35.582444</td>\n",
       "      <td>25.26307</td>\n",
       "      <td>22.66389</td>\n",
       "      <td>20.60976</td>\n",
       "      <td>19.34857</td>\n",
       "      <td>18.94827</td>\n",
       "      <td>120</td>\n",
       "      <td>5.152200e+18</td>\n",
       "      <td>0.644195</td>\n",
       "      <td>4576</td>\n",
       "      <td>55592</td>\n",
       "      <td>299</td>\n",
       "      <td>GALAXY</td>\n",
       "    </tr>\n",
       "    <tr>\n",
       "      <th>3</th>\n",
       "      <td>338.741038</td>\n",
       "      <td>-0.402828</td>\n",
       "      <td>22.13682</td>\n",
       "      <td>23.77656</td>\n",
       "      <td>21.61162</td>\n",
       "      <td>20.50454</td>\n",
       "      <td>19.25010</td>\n",
       "      <td>214</td>\n",
       "      <td>1.030107e+19</td>\n",
       "      <td>0.932346</td>\n",
       "      <td>9149</td>\n",
       "      <td>58039</td>\n",
       "      <td>775</td>\n",
       "      <td>GALAXY</td>\n",
       "    </tr>\n",
       "    <tr>\n",
       "      <th>4</th>\n",
       "      <td>345.282593</td>\n",
       "      <td>21.183866</td>\n",
       "      <td>19.43718</td>\n",
       "      <td>17.58028</td>\n",
       "      <td>16.49747</td>\n",
       "      <td>15.97711</td>\n",
       "      <td>15.54461</td>\n",
       "      <td>137</td>\n",
       "      <td>6.891865e+18</td>\n",
       "      <td>0.116123</td>\n",
       "      <td>6121</td>\n",
       "      <td>56187</td>\n",
       "      <td>842</td>\n",
       "      <td>GALAXY</td>\n",
       "    </tr>\n",
       "    <tr>\n",
       "      <th>...</th>\n",
       "      <td>...</td>\n",
       "      <td>...</td>\n",
       "      <td>...</td>\n",
       "      <td>...</td>\n",
       "      <td>...</td>\n",
       "      <td>...</td>\n",
       "      <td>...</td>\n",
       "      <td>...</td>\n",
       "      <td>...</td>\n",
       "      <td>...</td>\n",
       "      <td>...</td>\n",
       "      <td>...</td>\n",
       "      <td>...</td>\n",
       "      <td>...</td>\n",
       "    </tr>\n",
       "    <tr>\n",
       "      <th>99995</th>\n",
       "      <td>39.620709</td>\n",
       "      <td>-2.594074</td>\n",
       "      <td>22.16759</td>\n",
       "      <td>22.97586</td>\n",
       "      <td>21.90404</td>\n",
       "      <td>21.30548</td>\n",
       "      <td>20.73569</td>\n",
       "      <td>581</td>\n",
       "      <td>1.055431e+19</td>\n",
       "      <td>0.000000</td>\n",
       "      <td>9374</td>\n",
       "      <td>57749</td>\n",
       "      <td>438</td>\n",
       "      <td>GALAXY</td>\n",
       "    </tr>\n",
       "    <tr>\n",
       "      <th>99996</th>\n",
       "      <td>29.493819</td>\n",
       "      <td>19.798874</td>\n",
       "      <td>22.69118</td>\n",
       "      <td>22.38628</td>\n",
       "      <td>20.45003</td>\n",
       "      <td>19.75759</td>\n",
       "      <td>19.41526</td>\n",
       "      <td>289</td>\n",
       "      <td>8.586351e+18</td>\n",
       "      <td>0.404895</td>\n",
       "      <td>7626</td>\n",
       "      <td>56934</td>\n",
       "      <td>866</td>\n",
       "      <td>GALAXY</td>\n",
       "    </tr>\n",
       "    <tr>\n",
       "      <th>99997</th>\n",
       "      <td>224.587407</td>\n",
       "      <td>15.700707</td>\n",
       "      <td>21.16916</td>\n",
       "      <td>19.26997</td>\n",
       "      <td>18.20428</td>\n",
       "      <td>17.69034</td>\n",
       "      <td>17.35221</td>\n",
       "      <td>308</td>\n",
       "      <td>3.112008e+18</td>\n",
       "      <td>0.143366</td>\n",
       "      <td>2764</td>\n",
       "      <td>54535</td>\n",
       "      <td>74</td>\n",
       "      <td>GALAXY</td>\n",
       "    </tr>\n",
       "    <tr>\n",
       "      <th>99998</th>\n",
       "      <td>212.268621</td>\n",
       "      <td>46.660365</td>\n",
       "      <td>25.35039</td>\n",
       "      <td>21.63757</td>\n",
       "      <td>19.91386</td>\n",
       "      <td>19.07254</td>\n",
       "      <td>18.62482</td>\n",
       "      <td>131</td>\n",
       "      <td>7.601080e+18</td>\n",
       "      <td>0.455040</td>\n",
       "      <td>6751</td>\n",
       "      <td>56368</td>\n",
       "      <td>470</td>\n",
       "      <td>GALAXY</td>\n",
       "    </tr>\n",
       "    <tr>\n",
       "      <th>99999</th>\n",
       "      <td>196.896053</td>\n",
       "      <td>49.464643</td>\n",
       "      <td>22.62171</td>\n",
       "      <td>21.79745</td>\n",
       "      <td>20.60115</td>\n",
       "      <td>20.00959</td>\n",
       "      <td>19.28075</td>\n",
       "      <td>60</td>\n",
       "      <td>8.343152e+18</td>\n",
       "      <td>0.542944</td>\n",
       "      <td>7410</td>\n",
       "      <td>57104</td>\n",
       "      <td>851</td>\n",
       "      <td>GALAXY</td>\n",
       "    </tr>\n",
       "  </tbody>\n",
       "</table>\n",
       "<p>100000 rows × 14 columns</p>\n",
       "</div>"
      ],
      "text/plain": [
       "            alpha      delta         u         g         r         i  \\\n",
       "0      135.689107  32.494632  23.87882  22.27530  20.39501  19.16573   \n",
       "1      144.826101  31.274185  24.77759  22.83188  22.58444  21.16812   \n",
       "2      142.188790  35.582444  25.26307  22.66389  20.60976  19.34857   \n",
       "3      338.741038  -0.402828  22.13682  23.77656  21.61162  20.50454   \n",
       "4      345.282593  21.183866  19.43718  17.58028  16.49747  15.97711   \n",
       "...           ...        ...       ...       ...       ...       ...   \n",
       "99995   39.620709  -2.594074  22.16759  22.97586  21.90404  21.30548   \n",
       "99996   29.493819  19.798874  22.69118  22.38628  20.45003  19.75759   \n",
       "99997  224.587407  15.700707  21.16916  19.26997  18.20428  17.69034   \n",
       "99998  212.268621  46.660365  25.35039  21.63757  19.91386  19.07254   \n",
       "99999  196.896053  49.464643  22.62171  21.79745  20.60115  20.00959   \n",
       "\n",
       "              z  field_ID   spec_obj_ID  redshift  plate    MJD  fiber_ID  \\\n",
       "0      18.79371        79  6.543777e+18  0.634794   5812  56354       171   \n",
       "1      21.61427       119  1.176014e+19  0.779136  10445  58158       427   \n",
       "2      18.94827       120  5.152200e+18  0.644195   4576  55592       299   \n",
       "3      19.25010       214  1.030107e+19  0.932346   9149  58039       775   \n",
       "4      15.54461       137  6.891865e+18  0.116123   6121  56187       842   \n",
       "...         ...       ...           ...       ...    ...    ...       ...   \n",
       "99995  20.73569       581  1.055431e+19  0.000000   9374  57749       438   \n",
       "99996  19.41526       289  8.586351e+18  0.404895   7626  56934       866   \n",
       "99997  17.35221       308  3.112008e+18  0.143366   2764  54535        74   \n",
       "99998  18.62482       131  7.601080e+18  0.455040   6751  56368       470   \n",
       "99999  19.28075        60  8.343152e+18  0.542944   7410  57104       851   \n",
       "\n",
       "        class  \n",
       "0      GALAXY  \n",
       "1      GALAXY  \n",
       "2      GALAXY  \n",
       "3      GALAXY  \n",
       "4      GALAXY  \n",
       "...       ...  \n",
       "99995  GALAXY  \n",
       "99996  GALAXY  \n",
       "99997  GALAXY  \n",
       "99998  GALAXY  \n",
       "99999  GALAXY  \n",
       "\n",
       "[100000 rows x 14 columns]"
      ]
     },
     "execution_count": 1,
     "metadata": {},
     "output_type": "execute_result"
    }
   ],
   "source": [
    "import pandas as pd\n",
    "\n",
    "dataframe = pd.read_csv('star_class_clean.csv')\n",
    "dataframe"
   ]
  },
  {
   "cell_type": "code",
   "execution_count": 2,
   "id": "dd997da9",
   "metadata": {},
   "outputs": [
    {
     "data": {
      "text/plain": [
       "array(['GALAXY', 'QSO', 'STAR'], dtype=object)"
      ]
     },
     "execution_count": 2,
     "metadata": {},
     "output_type": "execute_result"
    }
   ],
   "source": [
    "dataframe['class'].unique()"
   ]
  },
  {
   "cell_type": "code",
   "execution_count": 3,
   "id": "e067659b",
   "metadata": {},
   "outputs": [
    {
     "name": "stdout",
     "output_type": "stream",
     "text": [
      "Número de valores únicos en field_ID: 856\n",
      "Número de valores únicos en spec_obj_ID: 100000\n",
      "Número de valores únicos en redshift: 99295\n",
      "Número de valores únicos en plate: 6284\n",
      "Número de valores únicos en fiber_ID: 1000\n"
     ]
    }
   ],
   "source": [
    "print(f'Número de valores únicos en field_ID: {len(dataframe[\"field_ID\"].unique())}')\n",
    "print(f'Número de valores únicos en spec_obj_ID: {len(dataframe[\"spec_obj_ID\"].unique())}')\n",
    "print(f'Número de valores únicos en redshift: {len(dataframe[\"redshift\"].unique())}')\n",
    "print(f'Número de valores únicos en plate: {len(dataframe[\"plate\"].unique())}')      \n",
    "print(f'Número de valores únicos en fiber_ID: {len(dataframe[\"fiber_ID\"].unique())}')      "
   ]
  },
  {
   "cell_type": "code",
   "execution_count": 4,
   "id": "eef822f3",
   "metadata": {},
   "outputs": [
    {
     "name": "stdout",
     "output_type": "stream",
     "text": [
      "Nº de elementos de la clase Galaxia: 59445\n",
      "Nº de elementos de la clase Cuasar: 18961\n",
      "Nº de elementos de la clase Estrella: 21594\n"
     ]
    },
    {
     "data": {
      "text/plain": [
       "<Axes: xlabel='class', ylabel='Probability'>"
      ]
     },
     "execution_count": 4,
     "metadata": {},
     "output_type": "execute_result"
    },
    {
     "data": {
      "image/png": "[encoded data removed]",
      "text/plain": [
       "<Figure size 640x480 with 1 Axes>"
      ]
     },
     "metadata": {},
     "output_type": "display_data"
    }
   ],
   "source": [
    "import numpy as np\n",
    "import matplotlib.pyplot as plt\n",
    "import seaborn as sns\n",
    "\n",
    "print('Nº de elementos de la clase Galaxia: {}'.format(np.count_nonzero(dataframe['class'] == 'GALAXY')))\n",
    "print('Nº de elementos de la clase Cuasar: {}'.format(np.count_nonzero(dataframe['class'] == 'QSO')))\n",
    "print('Nº de elementos de la clase Estrella: {}'.format(np.count_nonzero(dataframe['class'] == 'STAR')))\n",
    "\n",
    "sns.histplot(data=dataframe, x=\"class\", discrete=True, stat='probability', bins=2, color = 'purple')"
   ]
  },
  {
   "cell_type": "markdown",
   "id": "b963b88c",
   "metadata": {},
   "source": [
    "<hr>\n",
    "\n",
    "### 2. TRANSFORMACIÓN DE LOS DATOS\n",
    "\n"
   ]
  },
  {
   "cell_type": "code",
   "execution_count": 5,
   "id": "4238cc9f",
   "metadata": {},
   "outputs": [
    {
     "data": {
      "text/plain": [
       "alpha          float64\n",
       "delta          float64\n",
       "u              float64\n",
       "g              float64\n",
       "r              float64\n",
       "i              float64\n",
       "z              float64\n",
       "field_ID         int64\n",
       "spec_obj_ID    float64\n",
       "redshift       float64\n",
       "plate            int64\n",
       "MJD              int64\n",
       "fiber_ID         int64\n",
       "class           object\n",
       "dtype: object"
      ]
     },
     "execution_count": 5,
     "metadata": {},
     "output_type": "execute_result"
    }
   ],
   "source": [
    "dataframe.dtypes"
   ]
  },
  {
   "cell_type": "code",
   "execution_count": 6,
   "id": "b520d72a",
   "metadata": {},
   "outputs": [],
   "source": [
    "dataframe = dataframe.drop(['spec_obj_ID'], axis = 1)"
   ]
  },
  {
   "cell_type": "code",
   "execution_count": 7,
   "id": "d06b44e8",
   "metadata": {},
   "outputs": [],
   "source": [
    "from sklearn import preprocessing\n",
    "\n",
    "classValues = dataframe['class'].values\n",
    "\n",
    "le = preprocessing.LabelEncoder()     \n",
    "classLabelized = le.fit_transform(classValues)\n",
    "\n",
    "dataframe['class'] = classLabelized"
   ]
  },
  {
   "cell_type": "code",
   "execution_count": 8,
   "id": "d8fd4766",
   "metadata": {},
   "outputs": [
    {
     "data": {
      "text/plain": [
       "array([0, 1, 2])"
      ]
     },
     "execution_count": 8,
     "metadata": {},
     "output_type": "execute_result"
    }
   ],
   "source": [
    "dataframe['class'].unique()"
   ]
  },
  {
   "cell_type": "markdown",
   "id": "c0a16885",
   "metadata": {},
   "source": [
    "<hr>\n",
    "\n",
    "### 3. EVALUACIÓN HOLD-OUT\n",
    "\n"
   ]
  },
  {
   "cell_type": "code",
   "execution_count": 9,
   "id": "3d6b0a78",
   "metadata": {},
   "outputs": [],
   "source": [
    "from sklearn.model_selection import train_test_split\n",
    "\n",
    "X = dataframe.drop('class', axis=1, inplace=False).values\n",
    "y = dataframe['class'].values \n",
    "\n",
    "X_train, X_test, y_train, y_test = train_test_split(X, y, test_size=0.25, random_state=0)"
   ]
  },
  {
   "cell_type": "markdown",
   "id": "f28b4e28",
   "metadata": {},
   "source": [
    "<hr>\n",
    "\n",
    "### 4. OPTIMIZACIÓN DE HIPERPARÁMETROS PARA LGBM\n",
    "\n"
   ]
  },
  {
   "cell_type": "code",
   "execution_count": 10,
   "id": "d1d0c682",
   "metadata": {
    "scrolled": false
   },
   "outputs": [
    {
     "name": "stderr",
     "output_type": "stream",
     "text": [
      "\u001b[32m[I 2023-04-16 10:55:10,282]\u001b[0m A new study created in memory with name: LGBM Classifier\u001b[0m\n"
     ]
    },
    {
     "name": "stdout",
     "output_type": "stream",
     "text": [
      "[LightGBM] [Warning] bagging_fraction is set=0.5177410995041785, subsample=1.0 will be ignored. Current value: bagging_fraction=0.5177410995041785\n",
      "[LightGBM] [Warning] feature_fraction is set=0.684420584799992, colsample_bytree=1.0 will be ignored. Current value: feature_fraction=0.684420584799992\n",
      "[LightGBM] [Warning] bagging_freq is set=4, subsample_freq=0 will be ignored. Current value: bagging_freq=4\n"
     ]
    },
    {
     "name": "stderr",
     "output_type": "stream",
     "text": [
      "\u001b[32m[I 2023-04-16 10:55:17,790]\u001b[0m Trial 0 finished with value: 0.9765563955052304 and parameters: {'n_estimators': 374, 'learning_rate': 0.21740491624800165, 'num_leaves': 1820, 'max_depth': 8, 'bagging_fraction': 0.5177410995041785, 'feature_fraction': 0.684420584799992, 'bagging_freq': 4, 'min_child_samples': 90}. Best is trial 0 with value: 0.9765563955052304.\u001b[0m\n"
     ]
    },
    {
     "name": "stdout",
     "output_type": "stream",
     "text": [
      "[LightGBM] [Warning] bagging_fraction is set=0.6260334208204492, subsample=1.0 will be ignored. Current value: bagging_fraction=0.6260334208204492\n",
      "[LightGBM] [Warning] feature_fraction is set=0.8941974787194957, colsample_bytree=1.0 will be ignored. Current value: feature_fraction=0.8941974787194957\n",
      "[LightGBM] [Warning] bagging_freq is set=1, subsample_freq=0 will be ignored. Current value: bagging_freq=1\n"
     ]
    },
    {
     "name": "stderr",
     "output_type": "stream",
     "text": [
      "\u001b[32m[I 2023-04-16 10:55:29,404]\u001b[0m Trial 1 finished with value: 0.9784257759260152 and parameters: {'n_estimators': 582, 'learning_rate': 0.12119804045947552, 'num_leaves': 2380, 'max_depth': 8, 'bagging_fraction': 0.6260334208204492, 'feature_fraction': 0.8941974787194957, 'bagging_freq': 1, 'min_child_samples': 13}. Best is trial 1 with value: 0.9784257759260152.\u001b[0m\n"
     ]
    },
    {
     "name": "stdout",
     "output_type": "stream",
     "text": [
      "[LightGBM] [Warning] bagging_fraction is set=0.9339637566745731, subsample=1.0 will be ignored. Current value: bagging_fraction=0.9339637566745731\n",
      "[LightGBM] [Warning] feature_fraction is set=0.7993689231625427, colsample_bytree=1.0 will be ignored. Current value: feature_fraction=0.7993689231625427\n",
      "[LightGBM] [Warning] bagging_freq is set=4, subsample_freq=0 will be ignored. Current value: bagging_freq=4\n"
     ]
    },
    {
     "name": "stderr",
     "output_type": "stream",
     "text": [
      "\u001b[32m[I 2023-04-16 10:55:32,298]\u001b[0m Trial 2 finished with value: 0.9771699140594502 and parameters: {'n_estimators': 110, 'learning_rate': 0.251459755208902, 'num_leaves': 2340, 'max_depth': 11, 'bagging_fraction': 0.9339637566745731, 'feature_fraction': 0.7993689231625427, 'bagging_freq': 4, 'min_child_samples': 79}. Best is trial 1 with value: 0.9784257759260152.\u001b[0m\n"
     ]
    },
    {
     "name": "stdout",
     "output_type": "stream",
     "text": [
      "[LightGBM] [Warning] bagging_fraction is set=0.5913862413125537, subsample=1.0 will be ignored. Current value: bagging_fraction=0.5913862413125537\n",
      "[LightGBM] [Warning] feature_fraction is set=0.5109964549928927, colsample_bytree=1.0 will be ignored. Current value: feature_fraction=0.5109964549928927\n",
      "[LightGBM] [Warning] bagging_freq is set=2, subsample_freq=0 will be ignored. Current value: bagging_freq=2\n"
     ]
    },
    {
     "name": "stderr",
     "output_type": "stream",
     "text": [
      "\u001b[32m[I 2023-04-16 10:55:37,560]\u001b[0m Trial 3 finished with value: 0.9763535325021772 and parameters: {'n_estimators': 159, 'learning_rate': 0.1955770961849819, 'num_leaves': 440, 'max_depth': 12, 'bagging_fraction': 0.5913862413125537, 'feature_fraction': 0.5109964549928927, 'bagging_freq': 2, 'min_child_samples': 79}. Best is trial 1 with value: 0.9784257759260152.\u001b[0m\n"
     ]
    },
    {
     "name": "stdout",
     "output_type": "stream",
     "text": [
      "[LightGBM] [Warning] bagging_fraction is set=0.6590717920418161, subsample=1.0 will be ignored. Current value: bagging_fraction=0.6590717920418161\n",
      "[LightGBM] [Warning] feature_fraction is set=0.6627004976560678, colsample_bytree=1.0 will be ignored. Current value: feature_fraction=0.6627004976560678\n",
      "[LightGBM] [Warning] bagging_freq is set=7, subsample_freq=0 will be ignored. Current value: bagging_freq=7\n"
     ]
    },
    {
     "name": "stderr",
     "output_type": "stream",
     "text": [
      "\u001b[32m[I 2023-04-16 10:55:41,405]\u001b[0m Trial 4 finished with value: 0.9763807727496431 and parameters: {'n_estimators': 328, 'learning_rate': 0.17484584517190807, 'num_leaves': 60, 'max_depth': 9, 'bagging_fraction': 0.6590717920418161, 'feature_fraction': 0.6627004976560678, 'bagging_freq': 7, 'min_child_samples': 70}. Best is trial 1 with value: 0.9784257759260152.\u001b[0m\n"
     ]
    },
    {
     "name": "stdout",
     "output_type": "stream",
     "text": [
      "[LightGBM] [Warning] bagging_fraction is set=0.7000750365842507, subsample=1.0 will be ignored. Current value: bagging_fraction=0.7000750365842507\n",
      "[LightGBM] [Warning] feature_fraction is set=0.7029784022136196, colsample_bytree=1.0 will be ignored. Current value: feature_fraction=0.7029784022136196\n",
      "[LightGBM] [Warning] bagging_freq is set=2, subsample_freq=0 will be ignored. Current value: bagging_freq=2\n"
     ]
    },
    {
     "name": "stderr",
     "output_type": "stream",
     "text": [
      "\u001b[32m[I 2023-04-16 10:55:42,497]\u001b[0m Trial 5 finished with value: 0.9682648328975506 and parameters: {'n_estimators': 280, 'learning_rate': 0.13673926660180902, 'num_leaves': 2100, 'max_depth': 3, 'bagging_fraction': 0.7000750365842507, 'feature_fraction': 0.7029784022136196, 'bagging_freq': 2, 'min_child_samples': 17}. Best is trial 1 with value: 0.9784257759260152.\u001b[0m\n"
     ]
    },
    {
     "name": "stdout",
     "output_type": "stream",
     "text": [
      "[LightGBM] [Warning] bagging_fraction is set=0.9412803785444197, subsample=1.0 will be ignored. Current value: bagging_fraction=0.9412803785444197\n",
      "[LightGBM] [Warning] feature_fraction is set=0.27653360806102106, colsample_bytree=1.0 will be ignored. Current value: feature_fraction=0.27653360806102106\n",
      "[LightGBM] [Warning] bagging_freq is set=2, subsample_freq=0 will be ignored. Current value: bagging_freq=2\n"
     ]
    },
    {
     "name": "stderr",
     "output_type": "stream",
     "text": [
      "\u001b[32m[I 2023-04-16 10:55:44,946]\u001b[0m Trial 6 finished with value: 0.9738424295558316 and parameters: {'n_estimators': 258, 'learning_rate': 0.11547612357336054, 'num_leaves': 1720, 'max_depth': 7, 'bagging_fraction': 0.9412803785444197, 'feature_fraction': 0.27653360806102106, 'bagging_freq': 2, 'min_child_samples': 20}. Best is trial 1 with value: 0.9784257759260152.\u001b[0m\n"
     ]
    },
    {
     "name": "stdout",
     "output_type": "stream",
     "text": [
      "[LightGBM] [Warning] bagging_fraction is set=0.31922718773413983, subsample=1.0 will be ignored. Current value: bagging_fraction=0.31922718773413983\n",
      "[LightGBM] [Warning] feature_fraction is set=0.28278135587322883, colsample_bytree=1.0 will be ignored. Current value: feature_fraction=0.28278135587322883\n",
      "[LightGBM] [Warning] bagging_freq is set=5, subsample_freq=0 will be ignored. Current value: bagging_freq=5\n"
     ]
    },
    {
     "name": "stderr",
     "output_type": "stream",
     "text": [
      "\u001b[32m[I 2023-04-16 10:55:47,103]\u001b[0m Trial 7 finished with value: 0.9706778548223811 and parameters: {'n_estimators': 427, 'learning_rate': 0.0834545647365368, 'num_leaves': 1400, 'max_depth': 5, 'bagging_fraction': 0.31922718773413983, 'feature_fraction': 0.28278135587322883, 'bagging_freq': 5, 'min_child_samples': 18}. Best is trial 1 with value: 0.9784257759260152.\u001b[0m\n"
     ]
    },
    {
     "name": "stdout",
     "output_type": "stream",
     "text": [
      "[LightGBM] [Warning] bagging_fraction is set=0.828458680624103, subsample=1.0 will be ignored. Current value: bagging_fraction=0.828458680624103\n",
      "[LightGBM] [Warning] feature_fraction is set=0.2720738059204723, colsample_bytree=1.0 will be ignored. Current value: feature_fraction=0.2720738059204723\n",
      "[LightGBM] [Warning] bagging_freq is set=7, subsample_freq=0 will be ignored. Current value: bagging_freq=7\n"
     ]
    },
    {
     "name": "stderr",
     "output_type": "stream",
     "text": [
      "\u001b[32m[I 2023-04-16 10:55:47,933]\u001b[0m Trial 8 finished with value: 0.9650317816077405 and parameters: {'n_estimators': 198, 'learning_rate': 0.11693029949167957, 'num_leaves': 2480, 'max_depth': 3, 'bagging_fraction': 0.828458680624103, 'feature_fraction': 0.2720738059204723, 'bagging_freq': 7, 'min_child_samples': 49}. Best is trial 1 with value: 0.9784257759260152.\u001b[0m\n"
     ]
    },
    {
     "name": "stdout",
     "output_type": "stream",
     "text": [
      "[LightGBM] [Warning] bagging_fraction is set=0.4121052219323072, subsample=1.0 will be ignored. Current value: bagging_fraction=0.4121052219323072\n",
      "[LightGBM] [Warning] feature_fraction is set=0.29014742090987666, colsample_bytree=1.0 will be ignored. Current value: feature_fraction=0.29014742090987666\n",
      "[LightGBM] [Warning] bagging_freq is set=3, subsample_freq=0 will be ignored. Current value: bagging_freq=3\n"
     ]
    },
    {
     "name": "stderr",
     "output_type": "stream",
     "text": [
      "\u001b[32m[I 2023-04-16 10:55:49,797]\u001b[0m Trial 9 finished with value: 0.9683498587748686 and parameters: {'n_estimators': 589, 'learning_rate': 0.18540520072606334, 'num_leaves': 2220, 'max_depth': 3, 'bagging_fraction': 0.4121052219323072, 'feature_fraction': 0.29014742090987666, 'bagging_freq': 3, 'min_child_samples': 16}. Best is trial 1 with value: 0.9784257759260152.\u001b[0m\n"
     ]
    },
    {
     "name": "stdout",
     "output_type": "stream",
     "text": [
      "[LightGBM] [Warning] bagging_fraction is set=0.2207920199359764, subsample=1.0 will be ignored. Current value: bagging_fraction=0.2207920199359764\n",
      "[LightGBM] [Warning] feature_fraction is set=0.9418306788838815, colsample_bytree=1.0 will be ignored. Current value: feature_fraction=0.9418306788838815\n",
      "[LightGBM] [Warning] bagging_freq is set=1, subsample_freq=0 will be ignored. Current value: bagging_freq=1\n"
     ]
    },
    {
     "name": "stderr",
     "output_type": "stream",
     "text": [
      "\u001b[32m[I 2023-04-16 10:55:53,295]\u001b[0m Trial 10 finished with value: 0.9716066584983719 and parameters: {'n_estimators': 584, 'learning_rate': 0.02428252791947283, 'num_leaves': 2860, 'max_depth': 6, 'bagging_fraction': 0.2207920199359764, 'feature_fraction': 0.9418306788838815, 'bagging_freq': 1, 'min_child_samples': 48}. Best is trial 1 with value: 0.9784257759260152.\u001b[0m\n"
     ]
    },
    {
     "name": "stdout",
     "output_type": "stream",
     "text": [
      "[LightGBM] [Warning] bagging_fraction is set=0.8028572769786828, subsample=1.0 will be ignored. Current value: bagging_fraction=0.8028572769786828\n",
      "[LightGBM] [Warning] feature_fraction is set=0.9337416196821833, colsample_bytree=1.0 will be ignored. Current value: feature_fraction=0.9337416196821833\n",
      "[LightGBM] [Warning] bagging_freq is set=4, subsample_freq=0 will be ignored. Current value: bagging_freq=4\n"
     ]
    },
    {
     "name": "stderr",
     "output_type": "stream",
     "text": [
      "\u001b[32m[I 2023-04-16 10:55:55,598]\u001b[0m Trial 11 finished with value: 0.9765325792021086 and parameters: {'n_estimators': 106, 'learning_rate': 0.282155577350132, 'num_leaves': 1200, 'max_depth': 11, 'bagging_fraction': 0.8028572769786828, 'feature_fraction': 0.9337416196821833, 'bagging_freq': 4, 'min_child_samples': 65}. Best is trial 1 with value: 0.9784257759260152.\u001b[0m\n"
     ]
    },
    {
     "name": "stdout",
     "output_type": "stream",
     "text": [
      "[LightGBM] [Warning] bagging_fraction is set=0.9256432549161735, subsample=1.0 will be ignored. Current value: bagging_fraction=0.9256432549161735\n",
      "[LightGBM] [Warning] feature_fraction is set=0.8343763460025109, colsample_bytree=1.0 will be ignored. Current value: feature_fraction=0.8343763460025109\n",
      "[LightGBM] [Warning] bagging_freq is set=5, subsample_freq=0 will be ignored. Current value: bagging_freq=5\n"
     ]
    },
    {
     "name": "stderr",
     "output_type": "stream",
     "text": [
      "\u001b[32m[I 2023-04-16 10:56:00,992]\u001b[0m Trial 12 finished with value: 0.9787709724061693 and parameters: {'n_estimators': 485, 'learning_rate': 0.2537601369581455, 'num_leaves': 2840, 'max_depth': 9, 'bagging_fraction': 0.9256432549161735, 'feature_fraction': 0.8343763460025109, 'bagging_freq': 5, 'min_child_samples': 97}. Best is trial 12 with value: 0.9787709724061693.\u001b[0m\n"
     ]
    },
    {
     "name": "stdout",
     "output_type": "stream",
     "text": [
      "[LightGBM] [Warning] bagging_fraction is set=0.7573920016837394, subsample=1.0 will be ignored. Current value: bagging_fraction=0.7573920016837394\n",
      "[LightGBM] [Warning] feature_fraction is set=0.862631214896834, colsample_bytree=1.0 will be ignored. Current value: feature_fraction=0.862631214896834\n",
      "[LightGBM] [Warning] bagging_freq is set=6, subsample_freq=0 will be ignored. Current value: bagging_freq=6\n"
     ]
    },
    {
     "name": "stderr",
     "output_type": "stream",
     "text": [
      "\u001b[32m[I 2023-04-16 10:56:06,126]\u001b[0m Trial 13 finished with value: 0.9784875234419893 and parameters: {'n_estimators': 498, 'learning_rate': 0.28909090875290466, 'num_leaves': 2960, 'max_depth': 9, 'bagging_fraction': 0.7573920016837394, 'feature_fraction': 0.862631214896834, 'bagging_freq': 6, 'min_child_samples': 100}. Best is trial 12 with value: 0.9787709724061693.\u001b[0m\n"
     ]
    },
    {
     "name": "stdout",
     "output_type": "stream",
     "text": [
      "[LightGBM] [Warning] bagging_fraction is set=0.8044246294001893, subsample=1.0 will be ignored. Current value: bagging_fraction=0.8044246294001893\n",
      "[LightGBM] [Warning] feature_fraction is set=0.8209127945602737, colsample_bytree=1.0 will be ignored. Current value: feature_fraction=0.8209127945602737\n",
      "[LightGBM] [Warning] bagging_freq is set=6, subsample_freq=0 will be ignored. Current value: bagging_freq=6\n"
     ]
    },
    {
     "name": "stderr",
     "output_type": "stream",
     "text": [
      "\u001b[32m[I 2023-04-16 10:56:11,918]\u001b[0m Trial 14 finished with value: 0.9783943553705439 and parameters: {'n_estimators': 481, 'learning_rate': 0.2979798819109028, 'num_leaves': 2940, 'max_depth': 10, 'bagging_fraction': 0.8044246294001893, 'feature_fraction': 0.8209127945602737, 'bagging_freq': 6, 'min_child_samples': 96}. Best is trial 12 with value: 0.9787709724061693.\u001b[0m\n"
     ]
    },
    {
     "name": "stdout",
     "output_type": "stream",
     "text": [
      "[LightGBM] [Warning] bagging_fraction is set=0.7372069483477599, subsample=1.0 will be ignored. Current value: bagging_fraction=0.7372069483477599\n",
      "[LightGBM] [Warning] feature_fraction is set=0.8139420822096901, colsample_bytree=1.0 will be ignored. Current value: feature_fraction=0.8139420822096901\n",
      "[LightGBM] [Warning] bagging_freq is set=6, subsample_freq=0 will be ignored. Current value: bagging_freq=6\n"
     ]
    },
    {
     "name": "stderr",
     "output_type": "stream",
     "text": [
      "\u001b[32m[I 2023-04-16 10:56:17,203]\u001b[0m Trial 15 finished with value: 0.978203758878973 and parameters: {'n_estimators': 491, 'learning_rate': 0.24703367667683768, 'num_leaves': 2960, 'max_depth': 9, 'bagging_fraction': 0.7372069483477599, 'feature_fraction': 0.8139420822096901, 'bagging_freq': 6, 'min_child_samples': 100}. Best is trial 12 with value: 0.9787709724061693.\u001b[0m\n"
     ]
    },
    {
     "name": "stdout",
     "output_type": "stream",
     "text": [
      "[LightGBM] [Warning] bagging_fraction is set=0.8711619022358121, subsample=1.0 will be ignored. Current value: bagging_fraction=0.8711619022358121\n",
      "[LightGBM] [Warning] feature_fraction is set=0.5421527533945347, colsample_bytree=1.0 will be ignored. Current value: feature_fraction=0.5421527533945347\n",
      "[LightGBM] [Warning] bagging_freq is set=5, subsample_freq=0 will be ignored. Current value: bagging_freq=5\n"
     ]
    },
    {
     "name": "stderr",
     "output_type": "stream",
     "text": [
      "\u001b[32m[I 2023-04-16 10:56:24,126]\u001b[0m Trial 16 finished with value: 0.9785412688257339 and parameters: {'n_estimators': 497, 'learning_rate': 0.26122958684717956, 'num_leaves': 920, 'max_depth': 10, 'bagging_fraction': 0.8711619022358121, 'feature_fraction': 0.5421527533945347, 'bagging_freq': 5, 'min_child_samples': 33}. Best is trial 12 with value: 0.9787709724061693.\u001b[0m\n"
     ]
    },
    {
     "name": "stdout",
     "output_type": "stream",
     "text": [
      "[LightGBM] [Warning] bagging_fraction is set=0.8794237239900561, subsample=1.0 will be ignored. Current value: bagging_fraction=0.8794237239900561\n",
      "[LightGBM] [Warning] feature_fraction is set=0.47889178296586726, colsample_bytree=1.0 will be ignored. Current value: feature_fraction=0.47889178296586726\n",
      "[LightGBM] [Warning] bagging_freq is set=5, subsample_freq=0 will be ignored. Current value: bagging_freq=5\n"
     ]
    },
    {
     "name": "stderr",
     "output_type": "stream",
     "text": [
      "\u001b[32m[I 2023-04-16 10:56:31,643]\u001b[0m Trial 17 finished with value: 0.9784796543119884 and parameters: {'n_estimators': 404, 'learning_rate': 0.23201628527590776, 'num_leaves': 800, 'max_depth': 12, 'bagging_fraction': 0.8794237239900561, 'feature_fraction': 0.47889178296586726, 'bagging_freq': 5, 'min_child_samples': 36}. Best is trial 12 with value: 0.9787709724061693.\u001b[0m\n"
     ]
    },
    {
     "name": "stdout",
     "output_type": "stream",
     "text": [
      "[LightGBM] [Warning] bagging_fraction is set=0.8731216870471661, subsample=1.0 will be ignored. Current value: bagging_fraction=0.8731216870471661\n",
      "[LightGBM] [Warning] feature_fraction is set=0.5834995808198223, colsample_bytree=1.0 will be ignored. Current value: feature_fraction=0.5834995808198223\n",
      "[LightGBM] [Warning] bagging_freq is set=5, subsample_freq=0 will be ignored. Current value: bagging_freq=5\n"
     ]
    },
    {
     "name": "stderr",
     "output_type": "stream",
     "text": [
      "\u001b[32m[I 2023-04-16 10:56:37,486]\u001b[0m Trial 18 finished with value: 0.9785839563092612 and parameters: {'n_estimators': 451, 'learning_rate': 0.2638446117744331, 'num_leaves': 1020, 'max_depth': 10, 'bagging_fraction': 0.8731216870471661, 'feature_fraction': 0.5834995808198223, 'bagging_freq': 5, 'min_child_samples': 28}. Best is trial 12 with value: 0.9787709724061693.\u001b[0m\n"
     ]
    },
    {
     "name": "stdout",
     "output_type": "stream",
     "text": [
      "[LightGBM] [Warning] bagging_fraction is set=0.9455167919132039, subsample=1.0 will be ignored. Current value: bagging_fraction=0.9455167919132039\n",
      "[LightGBM] [Warning] feature_fraction is set=0.43651770317293637, colsample_bytree=1.0 will be ignored. Current value: feature_fraction=0.43651770317293637\n",
      "[LightGBM] [Warning] bagging_freq is set=3, subsample_freq=0 will be ignored. Current value: bagging_freq=3\n"
     ]
    },
    {
     "name": "stderr",
     "output_type": "stream",
     "text": [
      "\u001b[32m[I 2023-04-16 10:56:41,385]\u001b[0m Trial 19 finished with value: 0.9778755536111828 and parameters: {'n_estimators': 420, 'learning_rate': 0.21882078534676036, 'num_leaves': 1040, 'max_depth': 7, 'bagging_fraction': 0.9455167919132039, 'feature_fraction': 0.43651770317293637, 'bagging_freq': 3, 'min_child_samples': 35}. Best is trial 12 with value: 0.9787709724061693.\u001b[0m\n"
     ]
    }
   ],
   "source": [
    "import numpy as np\n",
    "import optuna\n",
    "import lightgbm as lgbm\n",
    "from sklearn.metrics import precision_score\n",
    "\n",
    "COMMON_PARAMS = {\"boosting_type\": 'gbdt',\n",
    "                 \"objective\": 'multiclass',\n",
    "                 \"class_weight\": \"balanced\",\n",
    "                 \"random_state\": 0}\n",
    "\n",
    "def lgbm_objective(trial, X_train, y_train, X_test, y_test):\n",
    "\n",
    "\n",
    "    param_grid = {\"n_estimators\": trial.suggest_int(\"n_estimators\", 100, 600),\n",
    "                  \"learning_rate\": trial.suggest_float(\"learning_rate\", 0.01, 0.3),\n",
    "                  \"num_leaves\": trial.suggest_int(\"num_leaves\", 20, 3000, step=20),\n",
    "                  \"max_depth\": trial.suggest_int(\"max_depth\", 3, 12),\n",
    "                  \"bagging_fraction\": trial.suggest_float(\"bagging_fraction\", 0.2, 0.95),\n",
    "                  \"feature_fraction\": trial.suggest_float(\"feature_fraction\", 0.2, 0.95),\n",
    "                  \"bagging_freq\": trial.suggest_int(\"bagging_freq\", 1, 7),\n",
    "                  \"min_child_samples\": trial.suggest_int(\"min_child_samples\", 5, 100)\n",
    "                 }\n",
    "    \n",
    "\n",
    "    lgbm_class = lgbm.LGBMClassifier(**COMMON_PARAMS, **param_grid)\n",
    "    \n",
    "\n",
    "    lgbm_class.fit(X_train, y_train)\n",
    "    \n",
    "\n",
    "    return precision_score(y_true=y_test, y_pred=lgbm_class.predict(X_test), average = \"macro\")\n",
    "\n",
    "\n",
    "\n",
    "trial = [] \n",
    "study = optuna.create_study(direction=\"maximize\", \n",
    "                            study_name=\"LGBM Classifier\", \n",
    "                            sampler=optuna.samplers.TPESampler(seed=0), \n",
    "                            pruner=optuna.pruners.HyperbandPruner())\n",
    "func = lambda trial: lgbm_objective(trial=trial, X_train=X_train, y_train=y_train, X_test=X_test, y_test=y_test)\n",
    "study.optimize(func, n_trials=20)"
   ]
  },
  {
   "cell_type": "code",
   "execution_count": 11,
   "id": "df30f751",
   "metadata": {},
   "outputs": [
    {
     "name": "stdout",
     "output_type": "stream",
     "text": [
      "Number of finished trials: 20\n",
      "Best trial:\n",
      "  Value: 0.9787709724061693\n",
      "  Params: \n",
      "\tboosting_type: gbdt\n",
      "\tobjective: multiclass\n",
      "\tclass_weight: balanced\n",
      "\trandom_state: 0\n",
      "\tn_estimators: 485\n",
      "\tlearning_rate: 0.2537601369581455\n",
      "\tnum_leaves: 2840\n",
      "\tmax_depth: 9\n",
      "\tbagging_fraction: 0.9256432549161735\n",
      "\tfeature_fraction: 0.8343763460025109\n",
      "\tbagging_freq: 5\n",
      "\tmin_child_samples: 97\n"
     ]
    }
   ],
   "source": [
    "print(\"Number of finished trials: {}\".format(len(study.trials)))\n",
    "\n",
    "\n",
    "print(\"Best trial:\")\n",
    "trial = study.best_trial\n",
    "print(\"  Value: {}\".format(trial.value))\n",
    "print(\"  Params: \")\n",
    "params = {**COMMON_PARAMS, **trial.params}\n",
    "for key, value in params.items():\n",
    "    print(\"\\t{}: {}\".format(key, value))"
   ]
  },
  {
   "cell_type": "markdown",
   "id": "a0158692",
   "metadata": {},
   "source": [
    "<hr>\n",
    "\n",
    "### 5. ENTRENAMIENTO DEL ENSEMBLE  OPTIMIZADO Y EL ENSEMBLE MANUAL CON MEJOR RENDIMIENTO\n",
    "\n"
   ]
  },
  {
   "cell_type": "code",
   "execution_count": 12,
   "id": "87c0ce3a",
   "metadata": {},
   "outputs": [],
   "source": [
    "modelLGBM = lgbm.LGBMClassifier(boosting_type ='gbdt',\n",
    "                       num_leaves=31,\n",
    "                       max_depth=-1,\n",
    "                       learning_rate=0.1,\n",
    "                       n_estimators=100,\n",
    "                       subsample_for_bin=200000,\n",
    "                       objective='multiclass',\n",
    "                       class_weight='balanced',\n",
    "                       min_split_gain=0,\n",
    "                       min_child_weight=0.001,\n",
    "                       min_child_samples=20,\n",
    "                       subsample=1,\n",
    "                       subsample_freq=0,\n",
    "                       colsample_bytree=1,\n",
    "                       reg_alpha=0,\n",
    "                       reg_lambda=0)\n",
    "\n",
    "modelLGBMOptimized = lgbm.LGBMClassifier(**params)"
   ]
  },
  {
   "cell_type": "code",
   "execution_count": 13,
   "id": "a83f98db",
   "metadata": {},
   "outputs": [],
   "source": [
    "modelosEnsemble = {\n",
    "           'Ensemble LGBM not optimized': modelLGBM,\n",
    "           'Ensemble LGBM optimized':modelLGBMOptimized\n",
    "}\n",
    "\n",
    "\n",
    "for k, v in modelosEnsemble.items():\n",
    "        v.fit(X_train, y_train)"
   ]
  },
  {
   "cell_type": "markdown",
   "id": "207edf9a",
   "metadata": {},
   "source": [
    "<hr>\n",
    "\n",
    "### 6. EVALUACIÓN DE LOS MÉTODOS ENSEMBLE\n",
    "\n"
   ]
  },
  {
   "cell_type": "code",
   "execution_count": 14,
   "id": "25f5ff7a",
   "metadata": {},
   "outputs": [
    {
     "name": "stdout",
     "output_type": "stream",
     "text": [
      "EVALUANDO MODELO: Ensemble LGBM not optimized\n",
      "EVALUANDO MODELO: Ensemble LGBM optimized\n"
     ]
    },
    {
     "data": {
      "text/html": [
       "<div>\n",
       "<style scoped>\n",
       "    .dataframe tbody tr th:only-of-type {\n",
       "        vertical-align: middle;\n",
       "    }\n",
       "\n",
       "    .dataframe tbody tr th {\n",
       "        vertical-align: top;\n",
       "    }\n",
       "\n",
       "    .dataframe thead th {\n",
       "        text-align: right;\n",
       "    }\n",
       "</style>\n",
       "<table border=\"1\" class=\"dataframe\">\n",
       "  <thead>\n",
       "    <tr style=\"text-align: right;\">\n",
       "      <th></th>\n",
       "      <th>accuracy</th>\n",
       "      <th>precision</th>\n",
       "      <th>recall</th>\n",
       "      <th>f1</th>\n",
       "    </tr>\n",
       "    <tr>\n",
       "      <th>name</th>\n",
       "      <th></th>\n",
       "      <th></th>\n",
       "      <th></th>\n",
       "      <th></th>\n",
       "    </tr>\n",
       "  </thead>\n",
       "  <tbody>\n",
       "    <tr>\n",
       "      <th>Ensemble LGBM not optimized</th>\n",
       "      <td>0.98204</td>\n",
       "      <td>0.977290</td>\n",
       "      <td>0.981422</td>\n",
       "      <td>0.979326</td>\n",
       "    </tr>\n",
       "    <tr>\n",
       "      <th>Ensemble LGBM optimized</th>\n",
       "      <td>0.99489</td>\n",
       "      <td>0.994745</td>\n",
       "      <td>0.993437</td>\n",
       "      <td>0.994087</td>\n",
       "    </tr>\n",
       "  </tbody>\n",
       "</table>\n",
       "</div>"
      ],
      "text/plain": [
       "                             accuracy  precision    recall        f1\n",
       "name                                                                \n",
       "Ensemble LGBM not optimized   0.98204   0.977290  0.981422  0.979326\n",
       "Ensemble LGBM optimized       0.99489   0.994745  0.993437  0.994087"
      ]
     },
     "execution_count": 14,
     "metadata": {},
     "output_type": "execute_result"
    }
   ],
   "source": [
    "from sklearn.metrics import confusion_matrix, accuracy_score, precision_score, recall_score, f1_score, roc_auc_score\n",
    "\n",
    "evaluacion = list()\n",
    "\n",
    "for k, v in modelosEnsemble.items():\n",
    "    print ('EVALUANDO MODELO: {model}'.format(model=k))\n",
    "    model = {}\n",
    "    model['name'] = k\n",
    "    y_pred = v.predict(X)\n",
    "    y_proba = v.predict_proba(X)\n",
    "    model['accuracy'] = accuracy_score(y_true=y, y_pred=y_pred)\n",
    "    model['precision'] = precision_score(y_true=y, y_pred=y_pred, average='macro')\n",
    "    model['recall'] = recall_score(y_true=y, y_pred=y_pred, average='macro')\n",
    "    model['f1'] = f1_score(y_true=y, y_pred=y_pred, average='macro')\n",
    "    evaluacion.append(model)\n",
    "    \n",
    "\n",
    "df = pd.DataFrame.from_dict(evaluacion)\n",
    "df.set_index(\"name\", inplace=True)\n",
    "df.head()"
   ]
  },
  {
   "cell_type": "code",
   "execution_count": 15,
   "id": "386aeb58",
   "metadata": {},
   "outputs": [
    {
     "name": "stdout",
     "output_type": "stream",
     "text": [
      "Obteniendo Matriz de Confusión de: Ensemble LGBM not optimized\n",
      "Obteniendo Matriz de Confusión de: Ensemble LGBM optimized\n"
     ]
    },
    {
     "name": "stderr",
     "output_type": "stream",
     "text": [
      "/tmp/ipykernel_3962/604877458.py:46: MatplotlibDeprecationWarning: Auto-removal of overlapping axes is deprecated since 3.6 and will be removed two minor releases later; explicitly call ax.remove() as needed.\n",
      "  plt.subplot(2, 2, i+1)\n",
      "/tmp/ipykernel_3962/604877458.py:49: MatplotlibDeprecationWarning: Auto-removal of overlapping axes is deprecated since 3.6 and will be removed two minor releases later; explicitly call ax.remove() as needed.\n",
      "  plt.subplot(2, 2, i+3)\n"
     ]
    },
    {
     "data": {
      "image/png": "[encoded data removed]",
      "text/plain": [
       "<Figure size 1500x800 with 6 Axes>"
      ]
     },
     "metadata": {},
     "output_type": "display_data"
    }
   ],
   "source": [
    "import itertools\n",
    "import numpy as np\n",
    "import matplotlib.pyplot as plt\n",
    "import seaborn as sns\n",
    "%matplotlib inline\n",
    "\n",
    "\n",
    "msc = list()\n",
    "for k, v in modelosEnsemble.items():\n",
    "    print ('Obteniendo Matriz de Confusión de: {model}'.format(model=k))\n",
    "    model = {}\n",
    "    model['name'] = k\n",
    "    y_pred_train = v.predict(X_train)\n",
    "    y_pred_test = v.predict(X_test)\n",
    "    cm_train = confusion_matrix(y_true=y_train, y_pred=y_pred_train)\n",
    "    cm_test = confusion_matrix(y_true=y_test, y_pred=y_pred_test)\n",
    "    model['confusion_matrix_train'] = (cm_train.astype('float') / cm_train.sum(axis=1)[:, np.newaxis]) * 100\n",
    "    model['confusion_matrix_test'] = (cm_test.astype('float') / cm_test.sum(axis=1)[:, np.newaxis]) * 100\n",
    "    msc.append(model)\n",
    "\n",
    "\n",
    "def plot_confusion_matrix(cm, classes, title, cmap=plt.cm.Purples):\n",
    "    \n",
    "    plt.imshow(cm, interpolation='nearest', cmap=cmap)\n",
    "    plt.title(title)\n",
    "    plt.colorbar()\n",
    "    tick_marks = np.arange(len(classes))\n",
    "    plt.xticks(tick_marks, classes, rotation=45)\n",
    "    plt.yticks(tick_marks, classes)\n",
    "\n",
    "    thresh = cm.max() / 2.\n",
    "    for i, j in itertools.product(range(cm.shape[0]), range(cm.shape[1])):\n",
    "        plt.text(j, i, '{:.1f} %'.format(cm[i, j]), horizontalalignment=\"center\",\n",
    "                 color=\"white\" if cm[i, j] > thresh else \"black\")\n",
    "\n",
    "    plt.tight_layout()\n",
    "    plt.ylabel('True label')\n",
    "    plt.xlabel('Predicted label')\n",
    "    \n",
    "\n",
    "plt.figure(figsize=(15, 8))\n",
    "for i, mc in enumerate(msc):\n",
    "    plt.subplot(2, 2, i+1)\n",
    "    plot_confusion_matrix(mc['confusion_matrix_train'], classes=['0', '1', '2'], \n",
    "                          title='{}\\nMatriz de Confusión Datos Entrenamiento'.format(mc['name']))\n",
    "    plt.subplot(2, 2, i+3)\n",
    "    plot_confusion_matrix(mc['confusion_matrix_test'], classes=['0', '1', '2'], \n",
    "                          title='{}\\nMatriz de Confusión Datos Tests'.format(mc['name'] ))\n",
    "plt.show()"
   ]
  },
  {
   "cell_type": "code",
   "execution_count": 16,
   "id": "d83f34d9",
   "metadata": {},
   "outputs": [],
   "source": [
    "predLGBM = modelosEnsemble['Ensemble LGBM optimized'].predict(X)"
   ]
  },
  {
   "cell_type": "markdown",
   "id": "0b873183",
   "metadata": {},
   "source": [
    "Hacemos ya las predicciones con LGBM pues se van a normalizar los datos para utilizar Redes Neuronales."
   ]
  },
  {
   "cell_type": "markdown",
   "id": "7156957f",
   "metadata": {},
   "source": [
    "<hr>\n",
    "\n",
    "### 7. PREPARACIÓN DE LOS DATOS PARA SER UTILIZADOS POR REDES NEURONALES\n",
    "\n"
   ]
  },
  {
   "cell_type": "code",
   "execution_count": 17,
   "id": "9991de47",
   "metadata": {},
   "outputs": [
    {
     "data": {
      "text/html": [
       "<div>\n",
       "<style scoped>\n",
       "    .dataframe tbody tr th:only-of-type {\n",
       "        vertical-align: middle;\n",
       "    }\n",
       "\n",
       "    .dataframe tbody tr th {\n",
       "        vertical-align: top;\n",
       "    }\n",
       "\n",
       "    .dataframe thead th {\n",
       "        text-align: right;\n",
       "    }\n",
       "</style>\n",
       "<table border=\"1\" class=\"dataframe\">\n",
       "  <thead>\n",
       "    <tr style=\"text-align: right;\">\n",
       "      <th></th>\n",
       "      <th>alpha</th>\n",
       "      <th>delta</th>\n",
       "      <th>u</th>\n",
       "      <th>g</th>\n",
       "      <th>r</th>\n",
       "      <th>i</th>\n",
       "      <th>z</th>\n",
       "      <th>field_ID</th>\n",
       "      <th>redshift</th>\n",
       "      <th>plate</th>\n",
       "      <th>MJD</th>\n",
       "      <th>fiber_ID</th>\n",
       "      <th>class</th>\n",
       "    </tr>\n",
       "  </thead>\n",
       "  <tbody>\n",
       "    <tr>\n",
       "      <th>77202</th>\n",
       "      <td>0.380032</td>\n",
       "      <td>0.244145</td>\n",
       "      <td>0.998824</td>\n",
       "      <td>0.998722</td>\n",
       "      <td>0.395158</td>\n",
       "      <td>0.338613</td>\n",
       "      <td>0.998741</td>\n",
       "      <td>0.114519</td>\n",
       "      <td>0.023450</td>\n",
       "      <td>0.075401</td>\n",
       "      <td>0.142135</td>\n",
       "      <td>0.568569</td>\n",
       "      <td>0</td>\n",
       "    </tr>\n",
       "    <tr>\n",
       "      <th>49596</th>\n",
       "      <td>0.771495</td>\n",
       "      <td>0.582716</td>\n",
       "      <td>0.998942</td>\n",
       "      <td>0.998908</td>\n",
       "      <td>0.520367</td>\n",
       "      <td>0.459831</td>\n",
       "      <td>0.999053</td>\n",
       "      <td>0.115542</td>\n",
       "      <td>0.001356</td>\n",
       "      <td>0.207882</td>\n",
       "      <td>0.410841</td>\n",
       "      <td>0.284284</td>\n",
       "      <td>2</td>\n",
       "    </tr>\n",
       "    <tr>\n",
       "      <th>44660</th>\n",
       "      <td>0.450810</td>\n",
       "      <td>0.404053</td>\n",
       "      <td>0.999065</td>\n",
       "      <td>0.999008</td>\n",
       "      <td>0.519082</td>\n",
       "      <td>0.431548</td>\n",
       "      <td>0.998938</td>\n",
       "      <td>0.063395</td>\n",
       "      <td>0.074337</td>\n",
       "      <td>0.501669</td>\n",
       "      <td>0.644457</td>\n",
       "      <td>0.578579</td>\n",
       "      <td>0</td>\n",
       "    </tr>\n",
       "    <tr>\n",
       "      <th>44748</th>\n",
       "      <td>0.544966</td>\n",
       "      <td>0.533087</td>\n",
       "      <td>0.998820</td>\n",
       "      <td>0.998735</td>\n",
       "      <td>0.399178</td>\n",
       "      <td>0.340967</td>\n",
       "      <td>0.998750</td>\n",
       "      <td>0.509202</td>\n",
       "      <td>0.025118</td>\n",
       "      <td>0.142497</td>\n",
       "      <td>0.299153</td>\n",
       "      <td>0.226226</td>\n",
       "      <td>0</td>\n",
       "    </tr>\n",
       "    <tr>\n",
       "      <th>50154</th>\n",
       "      <td>0.317345</td>\n",
       "      <td>0.596964</td>\n",
       "      <td>0.998867</td>\n",
       "      <td>0.998888</td>\n",
       "      <td>0.521761</td>\n",
       "      <td>0.462297</td>\n",
       "      <td>0.999060</td>\n",
       "      <td>0.202454</td>\n",
       "      <td>0.001377</td>\n",
       "      <td>0.198274</td>\n",
       "      <td>0.347624</td>\n",
       "      <td>0.573574</td>\n",
       "      <td>2</td>\n",
       "    </tr>\n",
       "  </tbody>\n",
       "</table>\n",
       "</div>"
      ],
      "text/plain": [
       "          alpha     delta         u         g         r         i         z  \\\n",
       "77202  0.380032  0.244145  0.998824  0.998722  0.395158  0.338613  0.998741   \n",
       "49596  0.771495  0.582716  0.998942  0.998908  0.520367  0.459831  0.999053   \n",
       "44660  0.450810  0.404053  0.999065  0.999008  0.519082  0.431548  0.998938   \n",
       "44748  0.544966  0.533087  0.998820  0.998735  0.399178  0.340967  0.998750   \n",
       "50154  0.317345  0.596964  0.998867  0.998888  0.521761  0.462297  0.999060   \n",
       "\n",
       "       field_ID  redshift     plate       MJD  fiber_ID  class  \n",
       "77202  0.114519  0.023450  0.075401  0.142135  0.568569      0  \n",
       "49596  0.115542  0.001356  0.207882  0.410841  0.284284      2  \n",
       "44660  0.063395  0.074337  0.501669  0.644457  0.578579      0  \n",
       "44748  0.509202  0.025118  0.142497  0.299153  0.226226      0  \n",
       "50154  0.202454  0.001377  0.198274  0.347624  0.573574      2  "
      ]
     },
     "execution_count": 17,
     "metadata": {},
     "output_type": "execute_result"
    }
   ],
   "source": [
    "from sklearn.preprocessing import MinMaxScaler\n",
    "\n",
    "classValues = dataframe['class'].values\n",
    "\n",
    "le = preprocessing.LabelEncoder()     \n",
    "classLabelized = le.fit_transform(classValues)\n",
    "\n",
    "dataframe['class'] = classLabelized\n",
    "\n",
    "target_col = 'class'\n",
    "features_cols = dataframe.loc[:, dataframe.columns != target_col].columns.tolist()\n",
    "\n",
    "min_max_scaler = MinMaxScaler()\n",
    "dataframe[features_cols] = min_max_scaler.fit_transform(dataframe[features_cols])\n",
    "dataframe.sample(5)"
   ]
  },
  {
   "cell_type": "code",
   "execution_count": 18,
   "id": "ae8414b8",
   "metadata": {},
   "outputs": [],
   "source": [
    "X = dataframe[features_cols]\n",
    "y = dataframe[target_col]\n",
    "\n",
    "# División de datos en entrenamiento y test\n",
    "X_train, X_test, y_train, y_test = train_test_split(X, y, test_size=0.2, random_state=0)"
   ]
  },
  {
   "cell_type": "markdown",
   "id": "70edef44",
   "metadata": {},
   "source": [
    "<hr>\n",
    "\n",
    "### 8. OPTIMIZACIÓN DE HIPERPARÁMETROS PARA REDES NEURONALES\n",
    "\n"
   ]
  },
  {
   "cell_type": "code",
   "execution_count": 19,
   "id": "0bf46965",
   "metadata": {},
   "outputs": [
    {
     "name": "stderr",
     "output_type": "stream",
     "text": [
      "2023-04-16 10:56:56.430235: I tensorflow/tsl/cuda/cudart_stub.cc:28] Could not find cuda drivers on your machine, GPU will not be used.\n",
      "2023-04-16 10:56:56.828782: I tensorflow/tsl/cuda/cudart_stub.cc:28] Could not find cuda drivers on your machine, GPU will not be used.\n",
      "2023-04-16 10:56:56.830651: I tensorflow/core/platform/cpu_feature_guard.cc:182] This TensorFlow binary is optimized to use available CPU instructions in performance-critical operations.\n",
      "To enable the following instructions: AVX2 FMA, in other operations, rebuild TensorFlow with the appropriate compiler flags.\n",
      "2023-04-16 10:56:58.148281: W tensorflow/compiler/tf2tensorrt/utils/py_utils.cc:38] TF-TRT Warning: Could not find TensorRT\n"
     ]
    }
   ],
   "source": [
    "import tensorflow as tf\n",
    "from tensorflow.keras import Sequential\n",
    "from tensorflow.keras.layers import Dense, Dropout\n",
    "from tensorflow.keras.regularizers import l2\n",
    "\n",
    "\n",
    "def create_model(trial):\n",
    "    \"\"\"Función para crear un modelo de red neuronal\"\"\"\n",
    "    \n",
    "    MIN_NEURONS = 4\n",
    "    MAX_NEURONS = 1024\n",
    "    \n",
    "\n",
    "    n_layers = trial.suggest_int(\"n_layers\", 1, 8)\n",
    "    \n",
    "\n",
    "    dropout = trial.suggest_float(\"dropout\", 0.05, 0.25)\n",
    "    \n",
    "\n",
    "    model = Sequential()\n",
    "    \n",
    "\n",
    "    num_first_layer = trial.suggest_int(\"n_units_0\", MIN_NEURONS, MAX_NEURONS)\n",
    "    model.add(Dense(num_first_layer, input_dim=X_train.shape[1], activation='relu'))\n",
    "    model.add(Dropout(dropout))\n",
    "    \n",
    "\n",
    "    for i in range(n_layers):\n",
    "        num_hidden = trial.suggest_int(\"n_units_{}\".format(i+1), MIN_NEURONS, MAX_NEURONS)\n",
    "        model.add(Dense(num_hidden, activation=\"relu\"))\n",
    "        #model.add(Dropout(dropout))\n",
    "    \n",
    "\n",
    "    model.add(Dense(3, activation='softmax'))\n",
    "    return model"
   ]
  },
  {
   "cell_type": "code",
   "execution_count": 20,
   "id": "1ef98771",
   "metadata": {},
   "outputs": [],
   "source": [
    "from tensorflow.keras import metrics\n",
    "\n",
    "def callback(study, trial):\n",
    "\n",
    "    if study.best_trial.number == trial.number:\n",
    "        study.set_user_attr(key=\"best_model\", value=trial.user_attrs[\"best_model\"])\n",
    "\n",
    "\n",
    "def objective(trial, X_train, y_train, X_test, y_test):\n",
    "\n",
    "    model = create_model(trial)\n",
    "    \n",
    "\n",
    "    model.compile(loss='sparse_categorical_crossentropy', optimizer='adam', metrics=['accuracy'])\n",
    "    \n",
    "\n",
    "    model.fit(X_train,\n",
    "              y_train,\n",
    "              validation_data=(X_test, y_test),\n",
    "              epochs=50,\n",
    "              batch_size=int(X_train.shape[0]/100),\n",
    "              class_weight={0: (1 / np.count_nonzero(y_train == 0)) * (len(y_train) / 2.0),\n",
    "                            1: (1 / np.count_nonzero(y_train == 1)) * (len(y_train) / 2.0),\n",
    "                            2: (1 / np.count_nonzero(y_train == 2)) * (len(y_train) / 2.0)},\n",
    "              verbose=0)\n",
    "    \n",
    "\n",
    "    trial.set_user_attr(key=\"best_model\", value=model)\n",
    "    \n",
    "      \n",
    "\n",
    "    return precision_score(y_true=y_test, y_pred=np.argmax(model.predict(X_test), axis=-1), average = \"macro\")\n"
   ]
  },
  {
   "cell_type": "code",
   "execution_count": 21,
   "id": "86b90ccb",
   "metadata": {},
   "outputs": [
    {
     "name": "stderr",
     "output_type": "stream",
     "text": [
      "\u001b[32m[I 2023-04-16 10:56:59,608]\u001b[0m A new study created in memory with name: MLP Tensorflow\u001b[0m\n",
      "2023-04-16 10:56:59.671146: I tensorflow/compiler/xla/stream_executor/cuda/cuda_gpu_executor.cc:996] successful NUMA node read from SysFS had negative value (-1), but there must be at least one NUMA node, so returning NUMA node zero. See more at https://github.com/torvalds/linux/blob/v6.0/Documentation/ABI/testing/sysfs-bus-pci#L344-L355\n",
      "2023-04-16 10:56:59.986223: W tensorflow/core/common_runtime/gpu/gpu_device.cc:1956] Cannot dlopen some GPU libraries. Please make sure the missing libraries mentioned above are installed properly if you would like to use GPU. Follow the guide at https://www.tensorflow.org/install/gpu for how to download and setup the required libraries for your platform.\n",
      "Skipping registering GPU devices...\n"
     ]
    },
    {
     "name": "stdout",
     "output_type": "stream",
     "text": [
      "625/625 [==============================] - 1s 1ms/step\n"
     ]
    },
    {
     "name": "stderr",
     "output_type": "stream",
     "text": [
      "\u001b[32m[I 2023-04-16 10:58:31,035]\u001b[0m Trial 0 finished with value: 0.9561151306287394 and parameters: {'n_layers': 4, 'dropout': 0.21305246179567217, 'n_units_0': 728, 'n_units_1': 502, 'n_units_2': 254, 'n_units_3': 595, 'n_units_4': 273}. Best is trial 0 with value: 0.9561151306287394.\u001b[0m\n"
     ]
    },
    {
     "name": "stdout",
     "output_type": "stream",
     "text": [
      "625/625 [==============================] - 1s 1ms/step\n"
     ]
    },
    {
     "name": "stderr",
     "output_type": "stream",
     "text": [
      "\u001b[32m[I 2023-04-16 11:00:20,330]\u001b[0m Trial 1 finished with value: 0.9610435635590195 and parameters: {'n_layers': 8, 'dropout': 0.08169448222886819, 'n_units_0': 288, 'n_units_1': 901, 'n_units_2': 397, 'n_units_3': 410, 'n_units_4': 170, 'n_units_5': 17, 'n_units_6': 652, 'n_units_7': 138, 'n_units_8': 160}. Best is trial 1 with value: 0.9610435635590195.\u001b[0m\n"
     ]
    },
    {
     "name": "stdout",
     "output_type": "stream",
     "text": [
      "625/625 [==============================] - 1s 2ms/step\n"
     ]
    },
    {
     "name": "stderr",
     "output_type": "stream",
     "text": [
      "\u001b[32m[I 2023-04-16 11:03:05,499]\u001b[0m Trial 2 finished with value: 0.9558311781832675 and parameters: {'n_layers': 6, 'dropout': 0.06946533180688114, 'n_units_0': 186, 'n_units_1': 74, 'n_units_2': 759, 'n_units_3': 907, 'n_units_4': 686, 'n_units_5': 318, 'n_units_6': 552}. Best is trial 1 with value: 0.9610435635590195.\u001b[0m\n"
     ]
    },
    {
     "name": "stdout",
     "output_type": "stream",
     "text": [
      "625/625 [==============================] - 0s 657us/step\n"
     ]
    },
    {
     "name": "stderr",
     "output_type": "stream",
     "text": [
      "\u001b[32m[I 2023-04-16 11:03:29,577]\u001b[0m Trial 3 finished with value: 0.9571296179959462 and parameters: {'n_layers': 2, 'dropout': 0.24840976244877844, 'n_units_0': 486, 'n_units_1': 88, 'n_units_2': 190}. Best is trial 1 with value: 0.9610435635590195.\u001b[0m\n"
     ]
    },
    {
     "name": "stdout",
     "output_type": "stream",
     "text": [
      "625/625 [==============================] - 1s 844us/step\n"
     ]
    },
    {
     "name": "stderr",
     "output_type": "stream",
     "text": [
      "\u001b[32m[I 2023-04-16 11:04:21,872]\u001b[0m Trial 4 finished with value: 0.9441101366810694 and parameters: {'n_layers': 3, 'dropout': 0.07433778520635932, 'n_units_0': 787, 'n_units_1': 8, 'n_units_2': 358, 'n_units_3': 781}. Best is trial 1 with value: 0.9610435635590195.\u001b[0m\n"
     ]
    },
    {
     "name": "stdout",
     "output_type": "stream",
     "text": [
      "625/625 [==============================] - 1s 2ms/step\n"
     ]
    },
    {
     "name": "stderr",
     "output_type": "stream",
     "text": [
      "\u001b[32m[I 2023-04-16 11:06:25,314]\u001b[0m Trial 5 finished with value: 0.9344826107525375 and parameters: {'n_layers': 8, 'dropout': 0.13672712817241617, 'n_units_0': 493, 'n_units_1': 49, 'n_units_2': 456, 'n_units_3': 422, 'n_units_4': 203, 'n_units_5': 640, 'n_units_6': 326, 'n_units_7': 668, 'n_units_8': 441}. Best is trial 1 with value: 0.9610435635590195.\u001b[0m\n"
     ]
    },
    {
     "name": "stdout",
     "output_type": "stream",
     "text": [
      "625/625 [==============================] - 1s 958us/step\n"
     ]
    },
    {
     "name": "stderr",
     "output_type": "stream",
     "text": [
      "\u001b[32m[I 2023-04-16 11:07:32,502]\u001b[0m Trial 6 finished with value: 0.9535721781709253 and parameters: {'n_layers': 3, 'dropout': 0.12690330114162807, 'n_units_0': 385, 'n_units_1': 114, 'n_units_2': 673, 'n_units_3': 618}. Best is trial 1 with value: 0.9610435635590195.\u001b[0m\n"
     ]
    },
    {
     "name": "stdout",
     "output_type": "stream",
     "text": [
      "625/625 [==============================] - 2s 2ms/step\n"
     ]
    },
    {
     "name": "stderr",
     "output_type": "stream",
     "text": [
      "\u001b[32m[I 2023-04-16 11:11:44,467]\u001b[0m Trial 7 finished with value: 0.9538071806532632 and parameters: {'n_layers': 8, 'dropout': 0.17761406907789362, 'n_units_0': 1013, 'n_units_1': 976, 'n_units_2': 592, 'n_units_3': 557, 'n_units_4': 95, 'n_units_5': 241, 'n_units_6': 70, 'n_units_7': 713, 'n_units_8': 873}. Best is trial 1 with value: 0.9610435635590195.\u001b[0m\n"
     ]
    },
    {
     "name": "stdout",
     "output_type": "stream",
     "text": [
      "625/625 [==============================] - 1s 2ms/step\n"
     ]
    },
    {
     "name": "stderr",
     "output_type": "stream",
     "text": [
      "\u001b[32m[I 2023-04-16 11:13:50,279]\u001b[0m Trial 8 finished with value: 0.9588203404394154 and parameters: {'n_layers': 6, 'dropout': 0.23382670699719993, 'n_units_0': 570, 'n_units_1': 1007, 'n_units_2': 87, 'n_units_3': 580, 'n_units_4': 16, 'n_units_5': 633, 'n_units_6': 649}. Best is trial 1 with value: 0.9610435635590195.\u001b[0m\n"
     ]
    },
    {
     "name": "stdout",
     "output_type": "stream",
     "text": [
      "625/625 [==============================] - 1s 2ms/step\n"
     ]
    },
    {
     "name": "stderr",
     "output_type": "stream",
     "text": [
      "\u001b[32m[I 2023-04-16 11:17:15,045]\u001b[0m Trial 9 finished with value: 0.9566103944912285 and parameters: {'n_layers': 7, 'dropout': 0.08291539089111383, 'n_units_0': 125, 'n_units_1': 721, 'n_units_2': 959, 'n_units_3': 590, 'n_units_4': 789, 'n_units_5': 267, 'n_units_6': 402, 'n_units_7': 304}. Best is trial 1 with value: 0.9610435635590195.\u001b[0m\n"
     ]
    }
   ],
   "source": [
    "trial = []\n",
    "study = optuna.create_study(direction=\"maximize\", study_name=\"MLP Tensorflow\")\n",
    "func = lambda trial: objective(trial=trial, X_train=X_train, y_train=y_train, X_test=X_test, y_test=y_test)\n",
    "study.optimize(func, n_trials=10, callbacks=[callback])"
   ]
  },
  {
   "cell_type": "code",
   "execution_count": 22,
   "id": "668fe89f",
   "metadata": {},
   "outputs": [
    {
     "name": "stdout",
     "output_type": "stream",
     "text": [
      "Number of finished trials: 10\n",
      "Best trial:\n",
      "  Value: 0.9610435635590195\n",
      "  Params: \n",
      "\tn_layers: 8\n",
      "\tdropout: 0.08169448222886819\n",
      "\tn_units_0: 288\n",
      "\tn_units_1: 901\n",
      "\tn_units_2: 397\n",
      "\tn_units_3: 410\n",
      "\tn_units_4: 170\n",
      "\tn_units_5: 17\n",
      "\tn_units_6: 652\n",
      "\tn_units_7: 138\n",
      "\tn_units_8: 160\n"
     ]
    }
   ],
   "source": [
    "print(\"Number of finished trials: {}\".format(len(study.trials)))\n",
    "\n",
    "\n",
    "print(\"Best trial:\")\n",
    "trial = study.best_trial\n",
    "print(\"  Value: {}\".format(trial.value))\n",
    "print(\"  Params: \")\n",
    "for key, value in trial.params.items():\n",
    "    print(\"\\t{}: {}\".format(key, value))"
   ]
  },
  {
   "cell_type": "markdown",
   "id": "e75cee5b",
   "metadata": {},
   "source": [
    "<hr>\n",
    "\n",
    "### 9. ENTRENAMIENTO DE LA RNN OPTIMIZADA Y LA RNN MANUAL CON MEJOR RENDIMIENTO\n",
    "\n"
   ]
  },
  {
   "cell_type": "code",
   "execution_count": 23,
   "id": "71cf6a26",
   "metadata": {},
   "outputs": [],
   "source": [
    "best_model=study.user_attrs[\"best_model\"]"
   ]
  },
  {
   "cell_type": "markdown",
   "id": "d655c395",
   "metadata": {},
   "source": [
    "Modelo RNN de la práctica anterior"
   ]
  },
  {
   "cell_type": "code",
   "execution_count": 24,
   "id": "b2a35b87",
   "metadata": {},
   "outputs": [
    {
     "name": "stdout",
     "output_type": "stream",
     "text": [
      "Epoch 1/50\n",
      "100/100 - 1s - loss: 1.0291 - accuracy: 0.5807 - val_loss: 0.3885 - val_accuracy: 0.8807 - 952ms/epoch - 10ms/step\n",
      "Epoch 2/50\n",
      "100/100 - 0s - loss: 0.4214 - accuracy: 0.8952 - val_loss: 0.2870 - val_accuracy: 0.9017 - 310ms/epoch - 3ms/step\n",
      "Epoch 3/50\n",
      "100/100 - 0s - loss: 0.3775 - accuracy: 0.9064 - val_loss: 0.2491 - val_accuracy: 0.9216 - 310ms/epoch - 3ms/step\n",
      "Epoch 4/50\n",
      "100/100 - 0s - loss: 0.3244 - accuracy: 0.9263 - val_loss: 0.2420 - val_accuracy: 0.9248 - 311ms/epoch - 3ms/step\n",
      "Epoch 5/50\n",
      "100/100 - 0s - loss: 0.3517 - accuracy: 0.9163 - val_loss: 0.2323 - val_accuracy: 0.9316 - 310ms/epoch - 3ms/step\n",
      "Epoch 6/50\n",
      "100/100 - 0s - loss: 0.2983 - accuracy: 0.9327 - val_loss: 0.2073 - val_accuracy: 0.9405 - 308ms/epoch - 3ms/step\n",
      "Epoch 7/50\n",
      "100/100 - 0s - loss: 0.2979 - accuracy: 0.9330 - val_loss: 0.2152 - val_accuracy: 0.9340 - 306ms/epoch - 3ms/step\n",
      "Epoch 8/50\n",
      "100/100 - 0s - loss: 0.2821 - accuracy: 0.9381 - val_loss: 0.1952 - val_accuracy: 0.9439 - 306ms/epoch - 3ms/step\n",
      "Epoch 9/50\n",
      "100/100 - 0s - loss: 0.2730 - accuracy: 0.9408 - val_loss: 0.2103 - val_accuracy: 0.9360 - 301ms/epoch - 3ms/step\n",
      "Epoch 10/50\n",
      "100/100 - 0s - loss: 0.3208 - accuracy: 0.9242 - val_loss: 0.2101 - val_accuracy: 0.9359 - 308ms/epoch - 3ms/step\n",
      "Epoch 11/50\n",
      "100/100 - 0s - loss: 0.2698 - accuracy: 0.9386 - val_loss: 0.1960 - val_accuracy: 0.9446 - 305ms/epoch - 3ms/step\n",
      "Epoch 12/50\n",
      "100/100 - 0s - loss: 0.2613 - accuracy: 0.9439 - val_loss: 0.1920 - val_accuracy: 0.9438 - 306ms/epoch - 3ms/step\n",
      "Epoch 13/50\n",
      "100/100 - 0s - loss: 0.2583 - accuracy: 0.9433 - val_loss: 0.1721 - val_accuracy: 0.9513 - 310ms/epoch - 3ms/step\n",
      "Epoch 14/50\n",
      "100/100 - 0s - loss: 0.2528 - accuracy: 0.9459 - val_loss: 0.1927 - val_accuracy: 0.9437 - 306ms/epoch - 3ms/step\n",
      "Epoch 15/50\n",
      "100/100 - 0s - loss: 0.2600 - accuracy: 0.9432 - val_loss: 0.1705 - val_accuracy: 0.9506 - 303ms/epoch - 3ms/step\n",
      "Epoch 16/50\n",
      "100/100 - 0s - loss: 0.5323 - accuracy: 0.8655 - val_loss: 0.2534 - val_accuracy: 0.9273 - 309ms/epoch - 3ms/step\n",
      "Epoch 17/50\n",
      "100/100 - 0s - loss: 0.2824 - accuracy: 0.9398 - val_loss: 0.1970 - val_accuracy: 0.9451 - 303ms/epoch - 3ms/step\n",
      "Epoch 18/50\n",
      "100/100 - 0s - loss: 0.2609 - accuracy: 0.9446 - val_loss: 0.2081 - val_accuracy: 0.9360 - 307ms/epoch - 3ms/step\n",
      "Epoch 19/50\n",
      "100/100 - 0s - loss: 0.2557 - accuracy: 0.9463 - val_loss: 0.1859 - val_accuracy: 0.9481 - 305ms/epoch - 3ms/step\n",
      "Epoch 20/50\n",
      "100/100 - 0s - loss: 0.2465 - accuracy: 0.9485 - val_loss: 0.2057 - val_accuracy: 0.9412 - 308ms/epoch - 3ms/step\n",
      "Epoch 21/50\n",
      "100/100 - 0s - loss: 0.2451 - accuracy: 0.9488 - val_loss: 0.1891 - val_accuracy: 0.9482 - 304ms/epoch - 3ms/step\n",
      "Epoch 22/50\n",
      "100/100 - 0s - loss: 0.2419 - accuracy: 0.9493 - val_loss: 0.1924 - val_accuracy: 0.9449 - 305ms/epoch - 3ms/step\n",
      "Epoch 23/50\n",
      "100/100 - 0s - loss: 0.3240 - accuracy: 0.9250 - val_loss: 0.1871 - val_accuracy: 0.9449 - 307ms/epoch - 3ms/step\n",
      "Epoch 24/50\n",
      "100/100 - 0s - loss: 0.2380 - accuracy: 0.9498 - val_loss: 0.1913 - val_accuracy: 0.9464 - 304ms/epoch - 3ms/step\n",
      "Epoch 25/50\n",
      "100/100 - 0s - loss: 0.2320 - accuracy: 0.9514 - val_loss: 0.1929 - val_accuracy: 0.9430 - 305ms/epoch - 3ms/step\n",
      "Epoch 26/50\n",
      "100/100 - 0s - loss: 0.2264 - accuracy: 0.9536 - val_loss: 0.1656 - val_accuracy: 0.9551 - 310ms/epoch - 3ms/step\n",
      "Epoch 27/50\n",
      "100/100 - 0s - loss: 0.2265 - accuracy: 0.9531 - val_loss: 0.1497 - val_accuracy: 0.9570 - 309ms/epoch - 3ms/step\n",
      "Epoch 28/50\n",
      "100/100 - 0s - loss: 0.2259 - accuracy: 0.9528 - val_loss: 0.1676 - val_accuracy: 0.9564 - 306ms/epoch - 3ms/step\n",
      "Epoch 29/50\n",
      "100/100 - 0s - loss: 0.2199 - accuracy: 0.9537 - val_loss: 0.1475 - val_accuracy: 0.9577 - 306ms/epoch - 3ms/step\n",
      "Epoch 30/50\n",
      "100/100 - 0s - loss: 0.2151 - accuracy: 0.9561 - val_loss: 0.1689 - val_accuracy: 0.9552 - 323ms/epoch - 3ms/step\n",
      "Epoch 31/50\n",
      "100/100 - 0s - loss: 0.2143 - accuracy: 0.9556 - val_loss: 0.1560 - val_accuracy: 0.9569 - 303ms/epoch - 3ms/step\n",
      "Epoch 32/50\n",
      "100/100 - 0s - loss: 0.2089 - accuracy: 0.9572 - val_loss: 0.1554 - val_accuracy: 0.9584 - 312ms/epoch - 3ms/step\n",
      "Epoch 33/50\n",
      "100/100 - 0s - loss: 0.3135 - accuracy: 0.9249 - val_loss: 0.1711 - val_accuracy: 0.9491 - 306ms/epoch - 3ms/step\n",
      "Epoch 34/50\n",
      "100/100 - 0s - loss: 0.2140 - accuracy: 0.9557 - val_loss: 0.1391 - val_accuracy: 0.9606 - 306ms/epoch - 3ms/step\n",
      "Epoch 35/50\n",
      "100/100 - 0s - loss: 0.2078 - accuracy: 0.9567 - val_loss: 0.1339 - val_accuracy: 0.9612 - 305ms/epoch - 3ms/step\n",
      "Epoch 36/50\n",
      "100/100 - 0s - loss: 0.2700 - accuracy: 0.9387 - val_loss: 0.1437 - val_accuracy: 0.9578 - 308ms/epoch - 3ms/step\n",
      "Epoch 37/50\n",
      "100/100 - 0s - loss: 0.1971 - accuracy: 0.9605 - val_loss: 0.1306 - val_accuracy: 0.9605 - 307ms/epoch - 3ms/step\n",
      "Epoch 38/50\n",
      "100/100 - 0s - loss: 0.1921 - accuracy: 0.9618 - val_loss: 0.1337 - val_accuracy: 0.9608 - 306ms/epoch - 3ms/step\n",
      "Epoch 39/50\n",
      "100/100 - 0s - loss: 0.1909 - accuracy: 0.9618 - val_loss: 0.1275 - val_accuracy: 0.9635 - 310ms/epoch - 3ms/step\n",
      "Epoch 40/50\n",
      "100/100 - 0s - loss: 0.1858 - accuracy: 0.9622 - val_loss: 0.1495 - val_accuracy: 0.9605 - 312ms/epoch - 3ms/step\n",
      "Epoch 41/50\n",
      "100/100 - 0s - loss: 0.1820 - accuracy: 0.9631 - val_loss: 0.1440 - val_accuracy: 0.9633 - 307ms/epoch - 3ms/step\n",
      "Epoch 42/50\n",
      "100/100 - 0s - loss: 0.3173 - accuracy: 0.9319 - val_loss: 0.1664 - val_accuracy: 0.9542 - 313ms/epoch - 3ms/step\n",
      "Epoch 43/50\n",
      "100/100 - 0s - loss: 0.1936 - accuracy: 0.9612 - val_loss: 0.1304 - val_accuracy: 0.9620 - 307ms/epoch - 3ms/step\n",
      "Epoch 44/50\n",
      "100/100 - 0s - loss: 0.1894 - accuracy: 0.9612 - val_loss: 0.1422 - val_accuracy: 0.9610 - 304ms/epoch - 3ms/step\n",
      "Epoch 45/50\n",
      "100/100 - 0s - loss: 0.1870 - accuracy: 0.9613 - val_loss: 0.1684 - val_accuracy: 0.9545 - 307ms/epoch - 3ms/step\n",
      "Epoch 46/50\n",
      "100/100 - 0s - loss: 0.1886 - accuracy: 0.9606 - val_loss: 0.1307 - val_accuracy: 0.9628 - 304ms/epoch - 3ms/step\n",
      "Epoch 47/50\n",
      "100/100 - 0s - loss: 0.1825 - accuracy: 0.9621 - val_loss: 0.1267 - val_accuracy: 0.9650 - 307ms/epoch - 3ms/step\n",
      "Epoch 48/50\n",
      "100/100 - 0s - loss: 0.1836 - accuracy: 0.9618 - val_loss: 0.1343 - val_accuracy: 0.9634 - 305ms/epoch - 3ms/step\n",
      "Epoch 49/50\n",
      "100/100 - 0s - loss: 0.2301 - accuracy: 0.9480 - val_loss: 0.2217 - val_accuracy: 0.9209 - 309ms/epoch - 3ms/step\n",
      "Epoch 50/50\n",
      "100/100 - 0s - loss: 0.2075 - accuracy: 0.9551 - val_loss: 0.1310 - val_accuracy: 0.9629 - 304ms/epoch - 3ms/step\n"
     ]
    },
    {
     "data": {
      "text/plain": [
       "<keras.callbacks.History at 0x7f0c9fe92d10>"
      ]
     },
     "execution_count": 24,
     "metadata": {},
     "output_type": "execute_result"
    }
   ],
   "source": [
    "from tensorflow.keras import metrics\n",
    "\n",
    "class_weights = {0: (1 / np.count_nonzero(y_train == 0)) * (len(y_train) / 2.0),\n",
    "                 1: (1 / np.count_nonzero(y_train == 1)) * (len(y_train) / 2.0),\n",
    "                 2: (1 / np.count_nonzero(y_train == 2)) * (len(y_train) / 2.0)}\n",
    "\n",
    "model = Sequential()\n",
    "model.add(Dense(256, input_dim=X_train.shape[1], activation='relu'))\n",
    "model.add(Dense(128, activation='relu'))\n",
    "model.add(Dense(64, activation='relu'))\n",
    "model.add(Dense(32, activation='relu'))\n",
    "model.add(Dense(16, activation='relu'))\n",
    "model.add(Dense(3, activation='softmax'))\n",
    "\n",
    "model.compile(loss='sparse_categorical_crossentropy', \n",
    "              optimizer='adam', \n",
    "              metrics=['accuracy'])\n",
    "\n",
    "model.fit(X_train, y_train, validation_data=(X_test, y_test), epochs=50, \n",
    "          batch_size=int(X_train.shape[0]/100), verbose=2, class_weight = class_weights)"
   ]
  },
  {
   "cell_type": "code",
   "execution_count": 25,
   "id": "fe5c3e8d",
   "metadata": {},
   "outputs": [
    {
     "name": "stdout",
     "output_type": "stream",
     "text": [
      "EVALUANDO MODELO: RNN not optimized\n",
      "3125/3125 [==============================] - 2s 586us/step\n",
      "3125/3125 [==============================] - 2s 594us/step\n",
      "EVALUANDO MODELO: RNN optimized\n",
      "3125/3125 [==============================] - 5s 1ms/step\n",
      "3125/3125 [==============================] - 5s 1ms/step\n"
     ]
    },
    {
     "data": {
      "text/html": [
       "<div>\n",
       "<style scoped>\n",
       "    .dataframe tbody tr th:only-of-type {\n",
       "        vertical-align: middle;\n",
       "    }\n",
       "\n",
       "    .dataframe tbody tr th {\n",
       "        vertical-align: top;\n",
       "    }\n",
       "\n",
       "    .dataframe thead th {\n",
       "        text-align: right;\n",
       "    }\n",
       "</style>\n",
       "<table border=\"1\" class=\"dataframe\">\n",
       "  <thead>\n",
       "    <tr style=\"text-align: right;\">\n",
       "      <th></th>\n",
       "      <th>accuracy</th>\n",
       "      <th>precision</th>\n",
       "      <th>recall</th>\n",
       "      <th>f1</th>\n",
       "    </tr>\n",
       "    <tr>\n",
       "      <th>name</th>\n",
       "      <th></th>\n",
       "      <th></th>\n",
       "      <th></th>\n",
       "      <th></th>\n",
       "    </tr>\n",
       "  </thead>\n",
       "  <tbody>\n",
       "    <tr>\n",
       "      <th>RNN not optimized</th>\n",
       "      <td>0.96412</td>\n",
       "      <td>0.956123</td>\n",
       "      <td>0.962792</td>\n",
       "      <td>0.959300</td>\n",
       "    </tr>\n",
       "    <tr>\n",
       "      <th>RNN optimized</th>\n",
       "      <td>0.96862</td>\n",
       "      <td>0.964073</td>\n",
       "      <td>0.964639</td>\n",
       "      <td>0.964156</td>\n",
       "    </tr>\n",
       "  </tbody>\n",
       "</table>\n",
       "</div>"
      ],
      "text/plain": [
       "                   accuracy  precision    recall        f1\n",
       "name                                                      \n",
       "RNN not optimized   0.96412   0.956123  0.962792  0.959300\n",
       "RNN optimized       0.96862   0.964073  0.964639  0.964156"
      ]
     },
     "execution_count": 25,
     "metadata": {},
     "output_type": "execute_result"
    }
   ],
   "source": [
    "modelosRNN = {\n",
    "    'RNN not optimized':model,\n",
    "    'RNN optimized':best_model \n",
    "}\n",
    "\n",
    "evaluacion = list()\n",
    "for k, v in modelosRNN.items():\n",
    "    print ('EVALUANDO MODELO: {model}'.format(model=k))\n",
    "    model = {}\n",
    "    model['name'] = k\n",
    "    y_prob = v.predict(X)\n",
    "    y_pred = np.argmax(v.predict(X), axis=-1)\n",
    "    model['accuracy'] = accuracy_score(y_true=y, y_pred=y_pred)\n",
    "    model['precision'] = precision_score(y_true=y, y_pred=y_pred, average = \"macro\")\n",
    "    model['recall'] = recall_score(y_true=y, y_pred=y_pred, average = \"macro\")\n",
    "    model['f1'] = f1_score(y_true=y, y_pred=y_pred, average = \"macro\")\n",
    "    evaluacion.append(model)\n",
    "\n",
    "df = pd.DataFrame.from_dict(evaluacion)\n",
    "df.set_index(\"name\", inplace=True)\n",
    "df"
   ]
  },
  {
   "cell_type": "code",
   "execution_count": 26,
   "id": "3c1ceeff",
   "metadata": {},
   "outputs": [
    {
     "name": "stdout",
     "output_type": "stream",
     "text": [
      "Obteniendo Matriz de Confusión de: RNN not optimized\n",
      "2500/2500 [==============================] - 1s 581us/step\n",
      "625/625 [==============================] - 0s 593us/step\n",
      "2500/2500 [==============================] - 1s 596us/step\n",
      "625/625 [==============================] - 0s 562us/step\n",
      "Obteniendo Matriz de Confusión de: RNN optimized\n",
      "2500/2500 [==============================] - 4s 1ms/step\n",
      "625/625 [==============================] - 1s 1ms/step\n",
      "2500/2500 [==============================] - 4s 1ms/step\n",
      "625/625 [==============================] - 1s 1ms/step\n"
     ]
    },
    {
     "name": "stderr",
     "output_type": "stream",
     "text": [
      "/tmp/ipykernel_3962/3444937147.py:48: MatplotlibDeprecationWarning: Auto-removal of overlapping axes is deprecated since 3.6 and will be removed two minor releases later; explicitly call ax.remove() as needed.\n",
      "  plt.subplot(2, 2, i+1)\n",
      "/tmp/ipykernel_3962/3444937147.py:51: MatplotlibDeprecationWarning: Auto-removal of overlapping axes is deprecated since 3.6 and will be removed two minor releases later; explicitly call ax.remove() as needed.\n",
      "  plt.subplot(2, 2, i+3)\n"
     ]
    },
    {
     "data": {
      "image/png": "[encoded data removed]",
      "text/plain": [
       "<Figure size 1500x800 with 6 Axes>"
      ]
     },
     "metadata": {},
     "output_type": "display_data"
    }
   ],
   "source": [
    "import itertools\n",
    "import numpy as np\n",
    "import matplotlib.pyplot as plt\n",
    "import seaborn as sns\n",
    "%matplotlib inline\n",
    "\n",
    "msc = list()\n",
    "for k, v in modelosRNN.items():\n",
    "    print ('Obteniendo Matriz de Confusión de: {model}'.format(model=k))\n",
    "    model = {}\n",
    "    model['name'] = k\n",
    "    y_prob_train = v.predict(X_train)\n",
    "    y_prob_test = v.predict(X_test)\n",
    "    y_pred_train = np.argmax(v.predict(X_train), axis=-1)\n",
    "    y_pred_test = np.argmax(v.predict(X_test), axis=-1)\n",
    "    cm_train = confusion_matrix(y_true=y_train, y_pred=y_pred_train)\n",
    "    cm_test = confusion_matrix(y_true=y_test, y_pred=y_pred_test)\n",
    "    model['confusion_matrix_train'] = (cm_train.astype('float') / cm_train.sum(axis=1)[:, np.newaxis]) * 100\n",
    "    model['confusion_matrix_test'] = (cm_test.astype('float') / cm_test.sum(axis=1)[:, np.newaxis]) * 100\n",
    "    msc.append(model)\n",
    "\n",
    "def plot_confusion_matrix(cm, classes, title, cmap=plt.cm.Purples):\n",
    "    \"\"\"\n",
    "    This function prints and plots the confusion matrix.\n",
    "    \"\"\"\n",
    "    plt.imshow(cm, interpolation='nearest', cmap=cmap)\n",
    "    plt.title(title)\n",
    "    plt.colorbar()\n",
    "    tick_marks = np.arange(len(classes))\n",
    "    plt.xticks(tick_marks, classes, rotation=45)\n",
    "    plt.yticks(tick_marks, classes)\n",
    "\n",
    "    thresh = cm.max() / 2.\n",
    "    for i, j in itertools.product(range(cm.shape[0]), range(cm.shape[1])):\n",
    "        plt.text(j, i, '{:.1f} %'.format(cm[i, j]), horizontalalignment=\"center\",\n",
    "                 color=\"white\" if cm[i, j] > thresh else \"black\")\n",
    "\n",
    "    plt.tight_layout()\n",
    "    plt.ylabel('True label')\n",
    "    plt.xlabel('Predicted label')\n",
    "    \n",
    "\n",
    "plt.figure(figsize=(15, 8))\n",
    "for i, mc in enumerate(msc):\n",
    "    plt.subplot(2, 2, i+1)\n",
    "    plot_confusion_matrix(mc['confusion_matrix_train'], classes=['0', '1', '2'], \n",
    "                          title='{}\\nMatriz de Confusión Datos Entrenamiento'.format(mc['name']))\n",
    "    plt.subplot(2, 2, i+3)\n",
    "    plot_confusion_matrix(mc['confusion_matrix_test'], classes=['0', '1', '2'], \n",
    "                          title='{}\\nMatriz de Confusión Datos Tests'.format(mc['name'] ))\n",
    "plt.show()"
   ]
  },
  {
   "cell_type": "code",
   "execution_count": 27,
   "id": "cf1743e8",
   "metadata": {},
   "outputs": [
    {
     "name": "stdout",
     "output_type": "stream",
     "text": [
      "3125/3125 [==============================] - 5s 1ms/step\n"
     ]
    }
   ],
   "source": [
    "predRNN = np.argmax(modelosRNN['RNN optimized'].predict(X), axis=-1)"
   ]
  },
  {
   "cell_type": "markdown",
   "id": "f5a3b174",
   "metadata": {},
   "source": [
    "<hr>\n",
    "\n",
    "### 10. CONCLUSIONES\n",
    "\n"
   ]
  },
  {
   "cell_type": "markdown",
   "id": "6b5f9f8b",
   "metadata": {},
   "source": [
    "* El conjunto de datos empleado tiene un gran desbalanceo de las clases a predecir, por lo que se ha utilizado class weights.\n",
    "* Todas las columnas del dataset son de tipo numérico excepto la clase a predecir, por lo que se tiene que utilizar un LabelEncoder para pasar de una etiqueta de texto a una etiqueta numérica para poder emplear árboles de decisión y Ensemble.\n",
    "* En caso de redes neuronales, se debe normalizar el dataset previo a la utilización de las redes.\n",
    "* Se ha escogido optimizar los modelos en función de la métrica de precisión, pues he considerado más importante optimizar el acierto de las predicciones, minimizando los falsos positivos. Siendo un problema que trata el tema del espacio, imaginemos que se quiere mandar una sonda para obtener datos de una galaxia, no de una estrella o cuásar. Disminuyendo la tasa de falsos positivos, se asegura que es más complicado que un objeto identificado como galaxia no sea galaxia.\n",
    "* En caso del método Ensemble LGBM, se obtiene una mejora del accuracy del 1.2%.\n",
    "* En caso de las Redes Neuronales, se obtiene una mejora del accuracy de 0.45%.\n",
    "* Para las Redes Neuronales, se ha optado por no dejar al optimizador utilizar regularización, pues siempre que empleaba regularización obtenía peores resultados que el modelo sin optimizar.\n",
    "* Se puede apreciar como Optuna escoge valores para los hiperparámetros que no serían escogidos nunca a primera vista. Un ejemplo de ello es \"learning_rate: 0.2537601369581455\", en el metamodelo LGBM, pues utiliza un número con muchos decimales.\n",
    "* A pesar de que se hayan obtenido mejores modelos, la optimización con Optuna requiere más tiempo. Esto ha sido sobretodo evidente en el caso de las RNN, pues no he podido utilizar la GPU con Optuna, pues mostraba un error de acceso a ficheros inexistentes (parece que accedía a la RAM de la CPU en vez de a la de la GPU, donde se había ejecutado el modelo).\n",
    "* Como se puede ver, Optuna ha logrado unos modelos excelentes, con unas métricas de accuracy, precision, recall y F1 muy altas. Además, en ambos casos el uso de Optuna ha logrado un modelo mejor que el realizado manualmente.\n",
    "* A pesar de los excelentes resultados, el factor del tiempo de ejecución se debe tener en cuenta, puesto que utilizar este método de optimización puede llevar mucho tiempo, especialmente si se decide hacer un número de pruebas elevado.\n",
    "\n",
    "Se van a realizar ahora las predicciones sobre todos los datos del dataframe, empleando los modelos LGBM y RNN obtenidos gracias a Optuna."
   ]
  },
  {
   "cell_type": "markdown",
   "id": "bf11f4fc",
   "metadata": {},
   "source": [
    "<hr>\n",
    "\n",
    "### 11. PREDICCIÓN CON LOS MODELOS OPTIMIZADOS\n",
    "\n"
   ]
  },
  {
   "cell_type": "code",
   "execution_count": 28,
   "id": "de478f41",
   "metadata": {},
   "outputs": [
    {
     "data": {
      "text/html": [
       "<div>\n",
       "<style scoped>\n",
       "    .dataframe tbody tr th:only-of-type {\n",
       "        vertical-align: middle;\n",
       "    }\n",
       "\n",
       "    .dataframe tbody tr th {\n",
       "        vertical-align: top;\n",
       "    }\n",
       "\n",
       "    .dataframe thead th {\n",
       "        text-align: right;\n",
       "    }\n",
       "</style>\n",
       "<table border=\"1\" class=\"dataframe\">\n",
       "  <thead>\n",
       "    <tr style=\"text-align: right;\">\n",
       "      <th></th>\n",
       "      <th>alpha</th>\n",
       "      <th>delta</th>\n",
       "      <th>u</th>\n",
       "      <th>g</th>\n",
       "      <th>r</th>\n",
       "      <th>i</th>\n",
       "      <th>z</th>\n",
       "      <th>field_ID</th>\n",
       "      <th>redshift</th>\n",
       "      <th>plate</th>\n",
       "      <th>MJD</th>\n",
       "      <th>fiber_ID</th>\n",
       "      <th>class</th>\n",
       "      <th>predLGBM</th>\n",
       "      <th>RNN</th>\n",
       "    </tr>\n",
       "  </thead>\n",
       "  <tbody>\n",
       "    <tr>\n",
       "      <th>0</th>\n",
       "      <td>0.376905</td>\n",
       "      <td>0.503802</td>\n",
       "      <td>0.999113</td>\n",
       "      <td>0.999070</td>\n",
       "      <td>0.535344</td>\n",
       "      <td>0.427665</td>\n",
       "      <td>0.998944</td>\n",
       "      <td>0.069530</td>\n",
       "      <td>0.091831</td>\n",
       "      <td>0.451592</td>\n",
       "      <td>0.648007</td>\n",
       "      <td>0.170170</td>\n",
       "      <td>0</td>\n",
       "      <td>0</td>\n",
       "      <td>0</td>\n",
       "    </tr>\n",
       "    <tr>\n",
       "      <th>1</th>\n",
       "      <td>0.402286</td>\n",
       "      <td>0.491812</td>\n",
       "      <td>0.999202</td>\n",
       "      <td>0.999126</td>\n",
       "      <td>0.646203</td>\n",
       "      <td>0.515986</td>\n",
       "      <td>0.999225</td>\n",
       "      <td>0.110429</td>\n",
       "      <td>0.112389</td>\n",
       "      <td>0.828841</td>\n",
       "      <td>0.894320</td>\n",
       "      <td>0.426426</td>\n",
       "      <td>0</td>\n",
       "      <td>0</td>\n",
       "      <td>0</td>\n",
       "    </tr>\n",
       "    <tr>\n",
       "      <th>2</th>\n",
       "      <td>0.394960</td>\n",
       "      <td>0.534139</td>\n",
       "      <td>0.999251</td>\n",
       "      <td>0.999109</td>\n",
       "      <td>0.546218</td>\n",
       "      <td>0.435729</td>\n",
       "      <td>0.998959</td>\n",
       "      <td>0.111452</td>\n",
       "      <td>0.093170</td>\n",
       "      <td>0.350949</td>\n",
       "      <td>0.543965</td>\n",
       "      <td>0.298298</td>\n",
       "      <td>0</td>\n",
       "      <td>0</td>\n",
       "      <td>0</td>\n",
       "    </tr>\n",
       "    <tr>\n",
       "      <th>3</th>\n",
       "      <td>0.940947</td>\n",
       "      <td>0.180600</td>\n",
       "      <td>0.998939</td>\n",
       "      <td>0.999220</td>\n",
       "      <td>0.596946</td>\n",
       "      <td>0.486717</td>\n",
       "      <td>0.998990</td>\n",
       "      <td>0.207566</td>\n",
       "      <td>0.134210</td>\n",
       "      <td>0.723312</td>\n",
       "      <td>0.878072</td>\n",
       "      <td>0.774775</td>\n",
       "      <td>0</td>\n",
       "      <td>0</td>\n",
       "      <td>0</td>\n",
       "    </tr>\n",
       "    <tr>\n",
       "      <th>4</th>\n",
       "      <td>0.959118</td>\n",
       "      <td>0.392679</td>\n",
       "      <td>0.998670</td>\n",
       "      <td>0.998602</td>\n",
       "      <td>0.337999</td>\n",
       "      <td>0.287021</td>\n",
       "      <td>0.998620</td>\n",
       "      <td>0.128834</td>\n",
       "      <td>0.017959</td>\n",
       "      <td>0.476753</td>\n",
       "      <td>0.625205</td>\n",
       "      <td>0.841842</td>\n",
       "      <td>0</td>\n",
       "      <td>0</td>\n",
       "      <td>0</td>\n",
       "    </tr>\n",
       "    <tr>\n",
       "      <th>5</th>\n",
       "      <td>0.947208</td>\n",
       "      <td>0.386840</td>\n",
       "      <td>0.999074</td>\n",
       "      <td>0.999176</td>\n",
       "      <td>0.582279</td>\n",
       "      <td>0.475761</td>\n",
       "      <td>0.999019</td>\n",
       "      <td>0.101227</td>\n",
       "      <td>0.204328</td>\n",
       "      <td>0.387591</td>\n",
       "      <td>0.579874</td>\n",
       "      <td>0.740741</td>\n",
       "      <td>1</td>\n",
       "      <td>1</td>\n",
       "      <td>1</td>\n",
       "    </tr>\n",
       "    <tr>\n",
       "      <th>6</th>\n",
       "      <td>0.064527</td>\n",
       "      <td>0.296736</td>\n",
       "      <td>0.998872</td>\n",
       "      <td>0.998961</td>\n",
       "      <td>0.562346</td>\n",
       "      <td>0.491292</td>\n",
       "      <td>0.999107</td>\n",
       "      <td>0.461145</td>\n",
       "      <td>0.084946</td>\n",
       "      <td>0.879651</td>\n",
       "      <td>0.935008</td>\n",
       "      <td>0.112112</td>\n",
       "      <td>1</td>\n",
       "      <td>1</td>\n",
       "      <td>1</td>\n",
       "    </tr>\n",
       "    <tr>\n",
       "      <th>7</th>\n",
       "      <td>0.015077</td>\n",
       "      <td>0.303092</td>\n",
       "      <td>0.998950</td>\n",
       "      <td>0.999045</td>\n",
       "      <td>0.532623</td>\n",
       "      <td>0.441877</td>\n",
       "      <td>0.998950</td>\n",
       "      <td>0.342536</td>\n",
       "      <td>0.069358</td>\n",
       "      <td>0.481801</td>\n",
       "      <td>0.628345</td>\n",
       "      <td>0.014014</td>\n",
       "      <td>0</td>\n",
       "      <td>0</td>\n",
       "      <td>0</td>\n",
       "    </tr>\n",
       "    <tr>\n",
       "      <th>8</th>\n",
       "      <td>0.556356</td>\n",
       "      <td>0.648270</td>\n",
       "      <td>0.999165</td>\n",
       "      <td>0.999078</td>\n",
       "      <td>0.546246</td>\n",
       "      <td>0.440860</td>\n",
       "      <td>0.998960</td>\n",
       "      <td>0.099182</td>\n",
       "      <td>0.095423</td>\n",
       "      <td>0.517792</td>\n",
       "      <td>0.652376</td>\n",
       "      <td>0.718719</td>\n",
       "      <td>0</td>\n",
       "      <td>0</td>\n",
       "      <td>0</td>\n",
       "    </tr>\n",
       "    <tr>\n",
       "      <th>9</th>\n",
       "      <td>0.108736</td>\n",
       "      <td>0.460655</td>\n",
       "      <td>0.998900</td>\n",
       "      <td>0.998847</td>\n",
       "      <td>0.473598</td>\n",
       "      <td>0.412337</td>\n",
       "      <td>0.998930</td>\n",
       "      <td>0.113497</td>\n",
       "      <td>0.001419</td>\n",
       "      <td>0.177347</td>\n",
       "      <td>0.337794</td>\n",
       "      <td>0.231231</td>\n",
       "      <td>2</td>\n",
       "      <td>2</td>\n",
       "      <td>2</td>\n",
       "    </tr>\n",
       "    <tr>\n",
       "      <th>10</th>\n",
       "      <td>0.911366</td>\n",
       "      <td>0.363564</td>\n",
       "      <td>0.999301</td>\n",
       "      <td>0.999095</td>\n",
       "      <td>0.547690</td>\n",
       "      <td>0.454790</td>\n",
       "      <td>0.998970</td>\n",
       "      <td>0.016360</td>\n",
       "      <td>0.066878</td>\n",
       "      <td>0.387102</td>\n",
       "      <td>0.579465</td>\n",
       "      <td>0.524525</td>\n",
       "      <td>0</td>\n",
       "      <td>0</td>\n",
       "      <td>0</td>\n",
       "    </tr>\n",
       "    <tr>\n",
       "      <th>11</th>\n",
       "      <td>0.677736</td>\n",
       "      <td>0.437424</td>\n",
       "      <td>0.999101</td>\n",
       "      <td>0.999222</td>\n",
       "      <td>0.565126</td>\n",
       "      <td>0.455970</td>\n",
       "      <td>0.999010</td>\n",
       "      <td>0.103272</td>\n",
       "      <td>0.085652</td>\n",
       "      <td>0.363244</td>\n",
       "      <td>0.557755</td>\n",
       "      <td>0.854855</td>\n",
       "      <td>0</td>\n",
       "      <td>0</td>\n",
       "      <td>0</td>\n",
       "    </tr>\n",
       "    <tr>\n",
       "      <th>12</th>\n",
       "      <td>0.960561</td>\n",
       "      <td>0.505554</td>\n",
       "      <td>0.999042</td>\n",
       "      <td>0.998858</td>\n",
       "      <td>0.485950</td>\n",
       "      <td>0.430073</td>\n",
       "      <td>0.998954</td>\n",
       "      <td>0.027607</td>\n",
       "      <td>0.001430</td>\n",
       "      <td>0.507939</td>\n",
       "      <td>0.673403</td>\n",
       "      <td>0.573574</td>\n",
       "      <td>2</td>\n",
       "      <td>2</td>\n",
       "      <td>2</td>\n",
       "    </tr>\n",
       "    <tr>\n",
       "      <th>13</th>\n",
       "      <td>0.920838</td>\n",
       "      <td>0.283155</td>\n",
       "      <td>0.998809</td>\n",
       "      <td>0.998719</td>\n",
       "      <td>0.389326</td>\n",
       "      <td>0.332858</td>\n",
       "      <td>0.998728</td>\n",
       "      <td>0.114519</td>\n",
       "      <td>0.023096</td>\n",
       "      <td>0.390766</td>\n",
       "      <td>0.564036</td>\n",
       "      <td>0.199199</td>\n",
       "      <td>0</td>\n",
       "      <td>0</td>\n",
       "      <td>0</td>\n",
       "    </tr>\n",
       "    <tr>\n",
       "      <th>14</th>\n",
       "      <td>0.958291</td>\n",
       "      <td>0.181093</td>\n",
       "      <td>0.999046</td>\n",
       "      <td>0.999122</td>\n",
       "      <td>0.620960</td>\n",
       "      <td>0.546628</td>\n",
       "      <td>0.999249</td>\n",
       "      <td>0.249489</td>\n",
       "      <td>0.117947</td>\n",
       "      <td>0.728687</td>\n",
       "      <td>0.829328</td>\n",
       "      <td>0.795796</td>\n",
       "      <td>0</td>\n",
       "      <td>0</td>\n",
       "      <td>0</td>\n",
       "    </tr>\n",
       "    <tr>\n",
       "      <th>15</th>\n",
       "      <td>0.680064</td>\n",
       "      <td>0.431690</td>\n",
       "      <td>0.999213</td>\n",
       "      <td>0.999056</td>\n",
       "      <td>0.537991</td>\n",
       "      <td>0.442043</td>\n",
       "      <td>0.998962</td>\n",
       "      <td>0.109407</td>\n",
       "      <td>0.070486</td>\n",
       "      <td>0.363244</td>\n",
       "      <td>0.557755</td>\n",
       "      <td>0.022022</td>\n",
       "      <td>0</td>\n",
       "      <td>0</td>\n",
       "      <td>0</td>\n",
       "    </tr>\n",
       "    <tr>\n",
       "      <th>16</th>\n",
       "      <td>0.981116</td>\n",
       "      <td>0.214825</td>\n",
       "      <td>0.999179</td>\n",
       "      <td>0.998987</td>\n",
       "      <td>0.563605</td>\n",
       "      <td>0.499467</td>\n",
       "      <td>0.999113</td>\n",
       "      <td>0.279141</td>\n",
       "      <td>0.001359</td>\n",
       "      <td>0.327091</td>\n",
       "      <td>0.581103</td>\n",
       "      <td>0.177177</td>\n",
       "      <td>2</td>\n",
       "      <td>2</td>\n",
       "      <td>2</td>\n",
       "    </tr>\n",
       "    <tr>\n",
       "      <th>17</th>\n",
       "      <td>0.004136</td>\n",
       "      <td>0.216897</td>\n",
       "      <td>0.998764</td>\n",
       "      <td>0.998884</td>\n",
       "      <td>0.530532</td>\n",
       "      <td>0.467073</td>\n",
       "      <td>0.999053</td>\n",
       "      <td>0.335378</td>\n",
       "      <td>0.290761</td>\n",
       "      <td>0.690253</td>\n",
       "      <td>0.826734</td>\n",
       "      <td>0.294294</td>\n",
       "      <td>1</td>\n",
       "      <td>1</td>\n",
       "      <td>1</td>\n",
       "    </tr>\n",
       "    <tr>\n",
       "      <th>18</th>\n",
       "      <td>0.039938</td>\n",
       "      <td>0.216137</td>\n",
       "      <td>0.998907</td>\n",
       "      <td>0.998899</td>\n",
       "      <td>0.512771</td>\n",
       "      <td>0.453902</td>\n",
       "      <td>0.999020</td>\n",
       "      <td>0.423313</td>\n",
       "      <td>0.001357</td>\n",
       "      <td>0.691068</td>\n",
       "      <td>0.787138</td>\n",
       "      <td>0.257257</td>\n",
       "      <td>2</td>\n",
       "      <td>2</td>\n",
       "      <td>2</td>\n",
       "    </tr>\n",
       "    <tr>\n",
       "      <th>19</th>\n",
       "      <td>0.464247</td>\n",
       "      <td>0.846142</td>\n",
       "      <td>0.998774</td>\n",
       "      <td>0.998712</td>\n",
       "      <td>0.394674</td>\n",
       "      <td>0.337403</td>\n",
       "      <td>0.998739</td>\n",
       "      <td>0.115542</td>\n",
       "      <td>0.017313</td>\n",
       "      <td>0.018240</td>\n",
       "      <td>0.043829</td>\n",
       "      <td>0.612613</td>\n",
       "      <td>0</td>\n",
       "      <td>0</td>\n",
       "      <td>0</td>\n",
       "    </tr>\n",
       "  </tbody>\n",
       "</table>\n",
       "</div>"
      ],
      "text/plain": [
       "       alpha     delta         u         g         r         i         z  \\\n",
       "0   0.376905  0.503802  0.999113  0.999070  0.535344  0.427665  0.998944   \n",
       "1   0.402286  0.491812  0.999202  0.999126  0.646203  0.515986  0.999225   \n",
       "2   0.394960  0.534139  0.999251  0.999109  0.546218  0.435729  0.998959   \n",
       "3   0.940947  0.180600  0.998939  0.999220  0.596946  0.486717  0.998990   \n",
       "4   0.959118  0.392679  0.998670  0.998602  0.337999  0.287021  0.998620   \n",
       "5   0.947208  0.386840  0.999074  0.999176  0.582279  0.475761  0.999019   \n",
       "6   0.064527  0.296736  0.998872  0.998961  0.562346  0.491292  0.999107   \n",
       "7   0.015077  0.303092  0.998950  0.999045  0.532623  0.441877  0.998950   \n",
       "8   0.556356  0.648270  0.999165  0.999078  0.546246  0.440860  0.998960   \n",
       "9   0.108736  0.460655  0.998900  0.998847  0.473598  0.412337  0.998930   \n",
       "10  0.911366  0.363564  0.999301  0.999095  0.547690  0.454790  0.998970   \n",
       "11  0.677736  0.437424  0.999101  0.999222  0.565126  0.455970  0.999010   \n",
       "12  0.960561  0.505554  0.999042  0.998858  0.485950  0.430073  0.998954   \n",
       "13  0.920838  0.283155  0.998809  0.998719  0.389326  0.332858  0.998728   \n",
       "14  0.958291  0.181093  0.999046  0.999122  0.620960  0.546628  0.999249   \n",
       "15  0.680064  0.431690  0.999213  0.999056  0.537991  0.442043  0.998962   \n",
       "16  0.981116  0.214825  0.999179  0.998987  0.563605  0.499467  0.999113   \n",
       "17  0.004136  0.216897  0.998764  0.998884  0.530532  0.467073  0.999053   \n",
       "18  0.039938  0.216137  0.998907  0.998899  0.512771  0.453902  0.999020   \n",
       "19  0.464247  0.846142  0.998774  0.998712  0.394674  0.337403  0.998739   \n",
       "\n",
       "    field_ID  redshift     plate       MJD  fiber_ID  class  predLGBM  RNN  \n",
       "0   0.069530  0.091831  0.451592  0.648007  0.170170      0         0    0  \n",
       "1   0.110429  0.112389  0.828841  0.894320  0.426426      0         0    0  \n",
       "2   0.111452  0.093170  0.350949  0.543965  0.298298      0         0    0  \n",
       "3   0.207566  0.134210  0.723312  0.878072  0.774775      0         0    0  \n",
       "4   0.128834  0.017959  0.476753  0.625205  0.841842      0         0    0  \n",
       "5   0.101227  0.204328  0.387591  0.579874  0.740741      1         1    1  \n",
       "6   0.461145  0.084946  0.879651  0.935008  0.112112      1         1    1  \n",
       "7   0.342536  0.069358  0.481801  0.628345  0.014014      0         0    0  \n",
       "8   0.099182  0.095423  0.517792  0.652376  0.718719      0         0    0  \n",
       "9   0.113497  0.001419  0.177347  0.337794  0.231231      2         2    2  \n",
       "10  0.016360  0.066878  0.387102  0.579465  0.524525      0         0    0  \n",
       "11  0.103272  0.085652  0.363244  0.557755  0.854855      0         0    0  \n",
       "12  0.027607  0.001430  0.507939  0.673403  0.573574      2         2    2  \n",
       "13  0.114519  0.023096  0.390766  0.564036  0.199199      0         0    0  \n",
       "14  0.249489  0.117947  0.728687  0.829328  0.795796      0         0    0  \n",
       "15  0.109407  0.070486  0.363244  0.557755  0.022022      0         0    0  \n",
       "16  0.279141  0.001359  0.327091  0.581103  0.177177      2         2    2  \n",
       "17  0.335378  0.290761  0.690253  0.826734  0.294294      1         1    1  \n",
       "18  0.423313  0.001357  0.691068  0.787138  0.257257      2         2    2  \n",
       "19  0.115542  0.017313  0.018240  0.043829  0.612613      0         0    0  "
      ]
     },
     "execution_count": 28,
     "metadata": {},
     "output_type": "execute_result"
    }
   ],
   "source": [
    "dataframe['predLGBM'] = predLGBM\n",
    "dataframe['RNN'] = predRNN\n",
    "\n",
    "dataframe.head(20)"
   ]
  },
  {
   "cell_type": "markdown",
   "id": "930ec891",
   "metadata": {},
   "source": [
    "Como se puede ver en esta pequeña muestra, LGBM y RNN han acertado en estas primeras veinte predicciones."
   ]
  }
 ],
 "metadata": {
  "kernelspec": {
   "display_name": "Python 3",
   "language": "python",
   "name": "python3"
  },
  "language_info": {
   "codemirror_mode": {
    "name": "ipython",
    "version": 3
   },
   "file_extension": ".py",
   "mimetype": "text/x-python",
   "name": "python",
   "nbconvert_exporter": "python",
   "pygments_lexer": "ipython3",
   "version": "3.8.8"
  }
 },
 "nbformat": 4,
 "nbformat_minor": 5
}
